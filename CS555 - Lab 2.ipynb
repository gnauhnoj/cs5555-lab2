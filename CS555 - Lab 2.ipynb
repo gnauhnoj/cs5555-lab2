{
 "cells": [
  {
   "cell_type": "code",
   "execution_count": 16,
   "metadata": {
    "collapsed": true
   },
   "outputs": [],
   "source": [
    "%matplotlib inline\n",
    "import loader\n",
    "import random\n",
    "import sys\n",
    "import numpy as np\n",
    "import matplotlib.pyplot as plt\n",
    "file = '2012-Consolidated-stripped.csv'"
   ]
  },
  {
   "cell_type": "code",
   "execution_count": 20,
   "metadata": {
    "collapsed": true
   },
   "outputs": [],
   "source": [
    "def reservoir_sample(iterator, k):\n",
    "    \"\"\"\n",
    "    Basic reservoir sample. Takes a target sample amount\n",
    "    \"\"\"\n",
    "    # fill the reservoir to start\n",
    "    iterator = iter(iterator)\n",
    "    result = [next(iterator) for _ in range(k)]\n",
    "    n = k\n",
    "    for item in iterator:\n",
    "        n += 1\n",
    "        s = random.randint(0, n)\n",
    "        if s < k:\n",
    "            result[s] = item\n",
    "    return result\n",
    "\n",
    "\n",
    "def get_sample_size(len1, len2, percent):\n",
    "    return int(min(len1, len2) * percent)"
   ]
  },
  {
   "cell_type": "code",
   "execution_count": 21,
   "metadata": {
    "collapsed": true
   },
   "outputs": [],
   "source": [
    "reload(loader)\n",
    "rows = loader.load_raw(file)"
   ]
  },
  {
   "cell_type": "code",
   "execution_count": 22,
   "metadata": {
    "collapsed": false
   },
   "outputs": [],
   "source": [
    "# split dataset by chronic / not_chronic\n",
    "chron = []\n",
    "notchron = []\n",
    "\n",
    "for pid in rows:\n",
    "    person = rows[pid]\n",
    "    person_data = person.info\n",
    "    chron_bool = False\n",
    "    for code in person.info:\n",
    "        if 'chronic_'in code and not chron_bool:\n",
    "                if person_data[code] is 1:\n",
    "                    chron_bool = True\n",
    "                elif person_data[code] is -9 or person_data[code] is -8 or person_data[code] is -7:\n",
    "                    rows[pid].chronic = -1\n",
    "            \n",
    "    if chron_bool:\n",
    "        chron.append(pid)\n",
    "    else:\n",
    "        notchron.append(pid)"
   ]
  },
  {
   "cell_type": "code",
   "execution_count": 37,
   "metadata": {
    "collapsed": true
   },
   "outputs": [],
   "source": [
    "# sample helpers\n",
    "def sample_two(l1, l2, pct):\n",
    "    ssize = get_sample_size(len(l1), len(l2), pct)\n",
    "    s1 = reservoir_sample(l1, ssize)\n",
    "    s2 = reservoir_sample(l2, ssize)\n",
    "    return s1, s2\n",
    "\n",
    "def sample_one(single, pct):\n",
    "    ssize = get_sample_size(len(single), sys.maxint, pct)\n",
    "    sample = reservoir_sample(single, ssize)\n",
    "    return sample\n",
    "\n",
    "def get_spending(id_list, rows):\n",
    "    return [rows[pid].info['spending_dist_total'] for pid in id_list]\n",
    "\n",
    "def get_subsidized(id_list, rows):\n",
    "    return [rows[pid].info['spending_pay_medicaid'] + rows[pid].info['spending_pay_medicare'] for pid in id_list]"
   ]
  },
  {
   "cell_type": "code",
   "execution_count": 34,
   "metadata": {
    "collapsed": false
   },
   "outputs": [],
   "source": [
    "# create samples of chronic / not chronic\n",
    "schron, snotchron = sample_two(chron, notchron, 0.7)"
   ]
  },
  {
   "cell_type": "code",
   "execution_count": 39,
   "metadata": {
    "collapsed": false
   },
   "outputs": [
    {
     "name": "stdout",
     "output_type": "stream",
     "text": [
      "chronic total spending 6502.75560734 16205.4853535\n",
      "not chronic total spending 1484.78260025 8802.73067834\n"
     ]
    }
   ],
   "source": [
    "# get average total spending for both groups\n",
    "schron_spend = get_spending(schron, rows)\n",
    "snotchron_spend = get_spending(snotchron, rows)\n",
    "print 'chronic total spending', np.average(schron_spend), np.std(schron_spend)\n",
    "print 'not chronic total spending', np.average(snotchron_spend), np.std(snotchron_spend)"
   ]
  },
  {
   "cell_type": "code",
   "execution_count": 40,
   "metadata": {
    "collapsed": false
   },
   "outputs": [
    {
     "name": "stdout",
     "output_type": "stream",
     "text": [
      "chronic sub spending 2982.13593553 10700.5406053\n",
      "not chronic sub spending 438.716962812 5515.1383859\n"
     ]
    }
   ],
   "source": [
    "# get average subsidized spending\n",
    "schron_sspend = get_subsidized(schron, rows)\n",
    "snotchron_sspend = get_subsidized(snotchron, rows)\n",
    "print 'chronic sub spending', np.average(schron_sspend), np.std(schron_sspend)\n",
    "print 'not chronic sub spending', np.average(snotchron_sspend), np.std(snotchron_sspend)"
   ]
  },
  {
   "cell_type": "code",
   "execution_count": 42,
   "metadata": {
    "collapsed": false
   },
   "outputs": [],
   "source": [
    "# get total visits\n",
    "schron_office = [rows[pid].info['service_office'] for pid in schron]\n",
    "snotchron_office = [rows[pid].info['service_office'] for pid in snotchron]\n",
    "\n",
    "# get cost per visit\n",
    "schron_cpv = [rows[pid].info['spending_dist_office']/rows[pid].info['service_office'] for pid in schron if rows[pid].info['service_office']>0]\n",
    "snotchron_cpv = [rows[pid].info['spending_dist_office']/rows[pid].info['service_office'] for pid in snotchron if rows[pid].info['service_office']>0]"
   ]
  },
  {
   "cell_type": "code",
   "execution_count": 43,
   "metadata": {
    "collapsed": false
   },
   "outputs": [
    {
     "name": "stdout",
     "output_type": "stream",
     "text": [
      "chronic office visits 6.40023303233 11.6200499013\n",
      "not chronic office visits 2.133799398 5.57106481946\n",
      "chronic cost per visit 4.17861107685 36.9440740481\n",
      "not chronic cost per visit 2.00597393193 21.9697919906\n"
     ]
    }
   ],
   "source": [
    "print 'chronic office visits', np.average(schron_office), np.std(schron_office)\n",
    "print 'not chronic office visits', np.average(snotchron_office), np.std(snotchron_office)\n",
    "\n",
    "print 'chronic cost per visit', np.average(schron_cpv), np.std(schron_cpv)\n",
    "print 'not chronic cost per visit', np.average(snotchron_cpv), np.std(snotchron_cpv)"
   ]
  },
  {
   "cell_type": "code",
   "execution_count": 67,
   "metadata": {
    "collapsed": false
   },
   "outputs": [],
   "source": [
    "# split dataset between chronic conditions\n",
    "hbp = []\n",
    "coronary = []\n",
    "myocardial = []\n",
    "stroke = []\n",
    "diabetes = []\n",
    "asthma = []\n",
    "arthritis = []\n",
    "cancer = []\n",
    "\n",
    "hbp2 = []\n",
    "multiple = []\n",
    "\n",
    "diseases = {\n",
    "    'chronic_hbp': hbp, \n",
    "    'chronic_coronary': coronary, \n",
    "    'chronic_myocardial': myocardial, \n",
    "    'chronic_stroke': stroke,\n",
    "    'chronic_diabetes': diabetes,\n",
    "    'chronic_asthma': asthma,\n",
    "    'chronic_arthritis': arthritis, \n",
    "    'chronic_cancer': cancer\n",
    "}\n",
    "\n",
    "for pid in rows:\n",
    "    person = rows[pid]\n",
    "    person_data = person.info\n",
    "    has_chronic = False\n",
    "    for code in person.info:\n",
    "        if 'chronic_hbp2' in code and person_data[code] is 1:\n",
    "            hbp2.append(pid)\n",
    "            continue\n",
    "        if code in diseases and person_data[code] is 1: \n",
    "            diseases[code].append(pid)\n",
    "            if not has_chronic:\n",
    "                has_chronic = True\n",
    "            else:\n",
    "                multiple.append(pid)\n",
    "                \n",
    "\n",
    "# This boolean controls whether the multiple condition group is mutually exclusive from individual\n",
    "separate = False\n",
    "if (separate):\n",
    "    # get people who only have that condition\n",
    "    set_multiple = set(multiple)\n",
    "    for disease in diseases:\n",
    "        setify = set(diseases[disease])\n",
    "        diseases[disease] = list(setify.difference(set_multiple))\n",
    "\n",
    "    # get people who only have hbp and who were diagnosed twice\n",
    "    set_hbp = set(hbp)\n",
    "    set_hbp2 = set(hbp2)\n",
    "    hbp2 = list(set_hbp.intersection(set_hbp2))   "
   ]
  },
  {
   "cell_type": "code",
   "execution_count": 68,
   "metadata": {
    "collapsed": false
   },
   "outputs": [],
   "source": [
    "# create sub samples of each condition\n",
    "shbp = sample_one(hbp, 0.7)\n",
    "scoronary = sample_one(coronary, 0.7)\n",
    "smyocardial = sample_one(myocardial, 0.7)\n",
    "sstroke = sample_one(stroke, 0.7)\n",
    "sdiabetes = sample_one(diabetes, 0.7)\n",
    "sasthma = sample_one(asthma, 0.7)\n",
    "sarthritis = sample_one(arthritis, 0.7)\n",
    "scancer = sample_one(cancer, 0.7)\n",
    "\n",
    "shbp2 = sample_one(hbp2, 0.7)\n",
    "smultiple = sample_one(multiple, 0.7)"
   ]
  },
  {
   "cell_type": "code",
   "execution_count": 69,
   "metadata": {
    "collapsed": false
   },
   "outputs": [
    {
     "name": "stdout",
     "output_type": "stream",
     "text": [
      "hbp 3815.92092575\n",
      "coronary 9163.708159\n",
      "myocardial 9263.43962848\n",
      "stroke 9965.27910448\n",
      "diabetes 5709.73974026\n",
      "asthma 2542.19746933\n",
      "arthritis 4703.25316165\n",
      "cancer 4941.55381727\n",
      "hbp2 4254.85748219\n",
      "multiple 6860.04389907\n"
     ]
    }
   ],
   "source": [
    "# get subsidized spending for each condition (filtering out multiple)\n",
    "shbp_ssp = get_subsidized(shbp, rows)\n",
    "scoronary_ssp = get_subsidized(scoronary, rows)\n",
    "smyocardial_ssp = get_subsidized(smyocardial, rows)\n",
    "sstroke_ssp = get_subsidized(sstroke, rows)\n",
    "sdiabetes_ssp = get_subsidized(sdiabetes, rows)\n",
    "sasthma_ssp = get_subsidized(sasthma, rows)\n",
    "sarthritis_ssp = get_subsidized(sarthritis, rows)\n",
    "scancer_ssp = get_subsidized(scancer, rows)\n",
    "\n",
    "shbp2_ssp = get_subsidized(shbp2, rows)\n",
    "smultiple_ssp = get_subsidized(smultiple, rows)\n",
    "\n",
    "print 'hbp', np.average(shbp_ssp)\n",
    "print 'coronary', np.average(scoronary_ssp)\n",
    "print 'myocardial', np.average(smyocardial_ssp)\n",
    "print 'stroke', np.average(sstroke_ssp)\n",
    "print 'diabetes', np.average(sdiabetes_ssp)\n",
    "print 'asthma', np.average(sasthma_ssp)\n",
    "print 'arthritis', np.average(sarthritis_ssp)\n",
    "print 'cancer', np.average(scancer_ssp)\n",
    "\n",
    "print 'hbp2', np.average(shbp2_ssp)\n",
    "print 'multiple', np.average(smultiple_ssp)"
   ]
  },
  {
   "cell_type": "code",
   "execution_count": null,
   "metadata": {
    "collapsed": true
   },
   "outputs": [],
   "source": [
    "# diabetes is unexpectedly the 4th highest single conditions -- let's take a closer look"
   ]
  },
  {
   "cell_type": "code",
   "execution_count": null,
   "metadata": {
    "collapsed": true
   },
   "outputs": [],
   "source": []
  }
 ],
 "metadata": {
  "kernelspec": {
   "display_name": "Python 2",
   "language": "python",
   "name": "python2"
  },
  "language_info": {
   "codemirror_mode": {
    "name": "ipython",
    "version": 2
   },
   "file_extension": ".py",
   "mimetype": "text/x-python",
   "name": "python",
   "nbconvert_exporter": "python",
   "pygments_lexer": "ipython2",
   "version": "2.7.10"
  }
 },
 "nbformat": 4,
 "nbformat_minor": 0
}
