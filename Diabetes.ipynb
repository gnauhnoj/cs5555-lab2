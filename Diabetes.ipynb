{
 "cells": [
  {
   "cell_type": "code",
   "execution_count": 33,
   "metadata": {
    "collapsed": true
   },
   "outputs": [],
   "source": [
    "%matplotlib inline\n",
    "import loader\n",
    "import numpy as np\n",
    "import random\n",
    "file = '2012-Consolidated-stripped.csv'"
   ]
  },
  {
   "cell_type": "code",
   "execution_count": 34,
   "metadata": {
    "collapsed": false
   },
   "outputs": [],
   "source": [
    "reload(loader)\n",
    "rows = loader.load_raw(file)"
   ]
  },
  {
   "cell_type": "code",
   "execution_count": 35,
   "metadata": {
    "collapsed": false
   },
   "outputs": [],
   "source": [
    "diabetes = []\n",
    "for pid in rows:\n",
    "    person = rows[pid]\n",
    "    if 'chronic_diabetes' in person.info and person.info['chronic_diabetes'] is 1:\n",
    "        diabetes.append(pid)"
   ]
  },
  {
   "cell_type": "code",
   "execution_count": 36,
   "metadata": {
    "collapsed": false
   },
   "outputs": [],
   "source": [
    "cared, uncared = [], []\n",
    "for pid in diabetes:\n",
    "    person = rows[pid]\n",
    "    care = 0\n",
    "    if ('diabetes_a1c' in person.info and person.info['diabetes_a1c']>0):\n",
    "        care += 1\n",
    "    if ('diabetes_foot' in person.info and person.info['diabetes_foot'] > 0):\n",
    "        care += 1\n",
    "    if ('diabetes_eye' in person.info and person.info['diabetes_eye'] > 0):\n",
    "        care += 1\n",
    "    if ('diabetes_cholest' in person.info and person.info['diabetes_cholest'] > 0):\n",
    "        care += 1\n",
    "    if (care <= 1):\n",
    "        uncared.append(pid)\n",
    "    else:\n",
    "        cared.append(pid)"
   ]
  },
  {
   "cell_type": "code",
   "execution_count": 37,
   "metadata": {
    "collapsed": false
   },
   "outputs": [
    {
     "name": "stdout",
     "output_type": "stream",
     "text": [
      "2261 490\n"
     ]
    }
   ],
   "source": [
    "print len(cared), len(uncared)"
   ]
  },
  {
   "cell_type": "code",
   "execution_count": 6,
   "metadata": {
    "collapsed": true
   },
   "outputs": [],
   "source": [
    "def reservoir_sample(iterator, k):\n",
    "    \"\"\"\n",
    "    Basic reservoir sample. Takes a target sample amount\n",
    "    \"\"\"\n",
    "    # fill the reservoir to start\n",
    "    iterator = iter(iterator)\n",
    "    result = [next(iterator) for _ in range(k)]\n",
    "    n = k\n",
    "    for item in iterator:\n",
    "        n += 1\n",
    "        s = random.randint(0, n)\n",
    "        if s < k:\n",
    "            result[s] = item\n",
    "    return result\n",
    "\n",
    "def get_sample_size(len1, len2, percent):\n",
    "    return int(min(len1, len2) * percent)"
   ]
  },
  {
   "cell_type": "code",
   "execution_count": 7,
   "metadata": {
    "collapsed": true
   },
   "outputs": [],
   "source": [
    "# get samples for cared and uncared groups\n",
    "ssize = get_sample_size(len(cared), len(uncared), 0.7)\n",
    "scared = reservoir_sample(cared, ssize)\n",
    "suncared = reservoir_sample(uncared, ssize)"
   ]
  },
  {
   "cell_type": "code",
   "execution_count": 8,
   "metadata": {
    "collapsed": false
   },
   "outputs": [],
   "source": [
    "cared_cost = [rows[pid].info['spending_pay_medicaid']+rows[pid].info['spending_pay_medicare'] for pid in scared]\n",
    "uncared_cost = [rows[pid].info['spending_pay_medicaid']+rows[pid].info['spending_pay_medicare'] for pid in suncared]"
   ]
  },
  {
   "cell_type": "code",
   "execution_count": 9,
   "metadata": {
    "collapsed": false
   },
   "outputs": [
    {
     "name": "stdout",
     "output_type": "stream",
     "text": [
      "6522.20408163 5912.12536443\n"
     ]
    }
   ],
   "source": [
    "print np.average(uncared_cost), np.average(cared_cost)"
   ]
  },
  {
   "cell_type": "code",
   "execution_count": 13,
   "metadata": {
    "collapsed": true
   },
   "outputs": [],
   "source": [
    "# age breakdown for cared and uncared groups\n",
    "cared_young, cared_mid, cared_old = [], [], []\n",
    "uncared_young, uncared_mid, uncared_old = [], [], []\n",
    "for pid in cared:\n",
    "    person = rows[pid]\n",
    "    if person.info['demo_age']>=65:\n",
    "        cared_old.append(pid)\n",
    "    elif person.info['demo_age']>=45:\n",
    "        cared_mid.append(pid)\n",
    "    elif person.info['demo_age']>18:\n",
    "        cared_young.append(pid)\n",
    "\n",
    "for pid in uncared:\n",
    "    person = rows[pid]\n",
    "    if person.info['demo_age']>=65:\n",
    "        uncared_old.append(pid)\n",
    "    elif person.info['demo_age']>=45:\n",
    "        uncared_mid.append(pid)\n",
    "    elif person.info['demo_age']>18:\n",
    "        uncared_young.append(pid)"
   ]
  },
  {
   "cell_type": "code",
   "execution_count": 14,
   "metadata": {
    "collapsed": true
   },
   "outputs": [],
   "source": [
    "cared_old_cost = [rows[pid].info['spending_pay_medicaid']+rows[pid].info['spending_pay_medicare'] for pid in cared_old]\n",
    "cared_mid_cost = [rows[pid].info['spending_pay_medicaid']+rows[pid].info['spending_pay_medicare'] for pid in cared_mid]\n",
    "cared_young_cost = [rows[pid].info['spending_pay_medicaid']+rows[pid].info['spending_pay_medicare'] for pid in cared_young]\n",
    "uncared_old_cost = [rows[pid].info['spending_pay_medicaid']+rows[pid].info['spending_pay_medicare'] for pid in uncared_old]\n",
    "uncared_mid_cost = [rows[pid].info['spending_pay_medicaid']+rows[pid].info['spending_pay_medicare'] for pid in uncared_mid]\n",
    "uncared_young_cost = [rows[pid].info['spending_pay_medicaid']+rows[pid].info['spending_pay_medicare'] for pid in uncared_young]"
   ]
  },
  {
   "cell_type": "code",
   "execution_count": 15,
   "metadata": {
    "collapsed": false
   },
   "outputs": [
    {
     "name": "stdout",
     "output_type": "stream",
     "text": [
      " Old Mid Young\n",
      "cared 8127.99223085 3612.09423077 3071.16352201\n",
      "uncared 8323.52222222 3760.18905473 1231.84848485\n"
     ]
    }
   ],
   "source": [
    "print '', 'Old', 'Mid', 'Young'\n",
    "print 'cared', np.average(cared_old_cost), np.average(cared_mid_cost), np.average(cared_young_cost)\n",
    "print 'uncared', np.average(uncared_old_cost), np.average(uncared_mid_cost), np.average(uncared_young_cost)"
   ]
  },
  {
   "cell_type": "code",
   "execution_count": null,
   "metadata": {
    "collapsed": true
   },
   "outputs": [],
   "source": []
  }
 ],
 "metadata": {
  "kernelspec": {
   "display_name": "Python 2",
   "language": "python",
   "name": "python2"
  },
  "language_info": {
   "codemirror_mode": {
    "name": "ipython",
    "version": 2
   },
   "file_extension": ".py",
   "mimetype": "text/x-python",
   "name": "python",
   "nbconvert_exporter": "python",
   "pygments_lexer": "ipython2",
   "version": "2.7.10"
  }
 },
 "nbformat": 4,
 "nbformat_minor": 0
}
