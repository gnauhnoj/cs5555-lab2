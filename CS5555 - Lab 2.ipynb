{
 "cells": [
  {
   "cell_type": "code",
   "execution_count": 74,
   "metadata": {
    "collapsed": true
   },
   "outputs": [],
   "source": [
    "%matplotlib inline\n",
    "import loader\n",
    "import random\n",
    "import sys\n",
    "import numpy as np\n",
    "import matplotlib.pyplot as plt\n",
    "from scipy import stats\n",
    "import scipy as sp\n",
    "file = '2012-Consolidated-stripped.csv'"
   ]
  },
  {
   "cell_type": "code",
   "execution_count": 2,
   "metadata": {
    "collapsed": true
   },
   "outputs": [],
   "source": [
    "def reservoir_sample(iterator, k):\n",
    "    \"\"\"\n",
    "    Basic reservoir sample. Takes a target sample amount\n",
    "    \"\"\"\n",
    "    # fill the reservoir to start\n",
    "    iterator = iter(iterator)\n",
    "    result = [next(iterator) for _ in range(k)]\n",
    "    n = k\n",
    "    for item in iterator:\n",
    "        n += 1\n",
    "        s = random.randint(0, n)\n",
    "        if s < k:\n",
    "            result[s] = item\n",
    "    return result\n",
    "\n",
    "\n",
    "def get_sample_size(len1, len2, percent):\n",
    "    return int(min(len1, len2) * percent)"
   ]
  },
  {
   "cell_type": "code",
   "execution_count": 3,
   "metadata": {
    "collapsed": true
   },
   "outputs": [],
   "source": [
    "reload(loader)\n",
    "rows = loader.load_raw(file)"
   ]
  },
  {
   "cell_type": "code",
   "execution_count": 4,
   "metadata": {
    "collapsed": false
   },
   "outputs": [],
   "source": [
    "# split dataset by chronic / not_chronic\n",
    "chron = []\n",
    "notchron = []\n",
    "\n",
    "for pid in rows:\n",
    "    person = rows[pid]\n",
    "    person_data = person.info\n",
    "    chron_bool = False\n",
    "    for code in person.info:\n",
    "        if 'chronic_'in code and not chron_bool:\n",
    "                if person_data[code] is 1:\n",
    "                    chron_bool = True\n",
    "                elif person_data[code] is -9 or person_data[code] is -8 or person_data[code] is -7:\n",
    "                    rows[pid].chronic = -1\n",
    "            \n",
    "    if chron_bool:\n",
    "        chron.append(pid)\n",
    "    else:\n",
    "        notchron.append(pid)"
   ]
  },
  {
   "cell_type": "code",
   "execution_count": 139,
   "metadata": {
    "collapsed": true
   },
   "outputs": [],
   "source": [
    "# sample helpers\n",
    "def sample_two(l1, l2, pct):\n",
    "    ssize = get_sample_size(len(l1), len(l2), pct)\n",
    "    s1 = reservoir_sample(l1, ssize)\n",
    "    s2 = reservoir_sample(l2, ssize)\n",
    "    return s1, s2\n",
    "\n",
    "def sample_one(single, pct):\n",
    "    ssize = get_sample_size(len(single), sys.maxint, pct)\n",
    "    sample = reservoir_sample(single, ssize)\n",
    "    return sample\n",
    "\n",
    "# spending getters\n",
    "def get_spending(id_list, rows):\n",
    "    return [rows[pid].info['spending_dist_total'] for pid in id_list]\n",
    "\n",
    "def get_subsidized(id_list, rows):\n",
    "    return [rows[pid].info['spending_pay_medicaid'] + rows[pid].info['spending_pay_medicare'] for pid in id_list]\n",
    "\n",
    "def get_medicaid(id_list, rows):\n",
    "    return [rows[pid].info['spending_pay_medicaid'] for pid in id_list]\n",
    "\n",
    "def get_medicare(id_list, rows):\n",
    "    return [rows[pid].info['spending_pay_medicare'] for pid in id_list]\n",
    "\n",
    "# calculate confidence interval\n",
    "def get_ci(samples, level):\n",
    "    mean = np.mean(samples)\n",
    "    scale = np.std(samples)\n",
    "    ci = stats.norm.interval(level, loc = mean, scale = scale)\n",
    "    return ci"
   ]
  },
  {
   "cell_type": "code",
   "execution_count": 201,
   "metadata": {
    "collapsed": false
   },
   "outputs": [],
   "source": [
    "# create samples of chronic / not chronic\n",
    "schron, snotchron = sample_two(chron, notchron, 0.7)"
   ]
  },
  {
   "cell_type": "code",
   "execution_count": 202,
   "metadata": {
    "collapsed": false
   },
   "outputs": [
    {
     "name": "stdout",
     "output_type": "stream",
     "text": [
      "chronic total spending 6271.8693077 15814.0481046\n",
      "not chronic total spending 1466.77997864 10609.2016612\n"
     ]
    }
   ],
   "source": [
    "# get average total spending for both groups\n",
    "schron_spend = get_spending(schron, rows)\n",
    "snotchron_spend = get_spending(snotchron, rows)\n",
    "print 'chronic total spending', np.average(schron_spend), np.std(schron_spend)\n",
    "print 'not chronic total spending', np.average(snotchron_spend), np.std(snotchron_spend)"
   ]
  },
  {
   "cell_type": "code",
   "execution_count": 203,
   "metadata": {
    "collapsed": false
   },
   "outputs": [
    {
     "name": "stdout",
     "output_type": "stream",
     "text": [
      "chronic sub spending 2895.02903194 10409.1677886\n",
      "not chronic sub spending 379.372172056 2960.2254977\n"
     ]
    }
   ],
   "source": [
    "# get average subsidized spending\n",
    "schron_sspend = get_subsidized(schron, rows)\n",
    "snotchron_sspend = get_subsidized(snotchron, rows)\n",
    "print 'chronic sub spending', np.average(schron_sspend), np.std(schron_sspend)\n",
    "print 'not chronic sub spending', np.average(snotchron_sspend), np.std(snotchron_sspend)"
   ]
  },
  {
   "cell_type": "code",
   "execution_count": 204,
   "metadata": {
    "collapsed": false
   },
   "outputs": [],
   "source": [
    "# get total visits\n",
    "schron_office = [rows[pid].info['service_office'] for pid in schron]\n",
    "snotchron_office = [rows[pid].info['service_office'] for pid in snotchron]\n",
    "\n",
    "# get cost per visit\n",
    "schron_cpv = [rows[pid].info['spending_dist_office']/rows[pid].info['service_office'] for pid in schron if rows[pid].info['service_office']>0]\n",
    "snotchron_cpv = [rows[pid].info['spending_dist_office']/rows[pid].info['service_office'] for pid in snotchron if rows[pid].info['service_office']>0]"
   ]
  },
  {
   "cell_type": "code",
   "execution_count": 205,
   "metadata": {
    "collapsed": false
   },
   "outputs": [
    {
     "name": "stdout",
     "output_type": "stream",
     "text": [
      "chronic office visits 6.41042819691 11.7457204847\n",
      "not chronic office visits 2.00835032527 5.11283766878\n",
      "chronic cost per visit 3.9145456781 33.103308646\n",
      "not chronic cost per visit 1.38003309432 16.3699163963\n"
     ]
    }
   ],
   "source": [
    "print 'chronic office visits', np.average(schron_office), np.std(schron_office)\n",
    "print 'not chronic office visits', np.average(snotchron_office), np.std(snotchron_office)\n",
    "\n",
    "print 'chronic cost per visit', np.average(schron_cpv), np.std(schron_cpv)\n",
    "print 'not chronic cost per visit', np.average(snotchron_cpv), np.std(snotchron_cpv)"
   ]
  },
  {
   "cell_type": "code",
   "execution_count": 11,
   "metadata": {
    "collapsed": false
   },
   "outputs": [],
   "source": [
    "# split dataset between chronic conditions\n",
    "hbp = []\n",
    "coronary = []\n",
    "myocardial = []\n",
    "stroke = []\n",
    "diabetes = []\n",
    "asthma = []\n",
    "arthritis = []\n",
    "cancer = []\n",
    "\n",
    "hbp2 = []\n",
    "multiple = []\n",
    "\n",
    "diseases = {\n",
    "    'chronic_hbp': hbp, \n",
    "    'chronic_coronary': coronary, \n",
    "    'chronic_myocardial': myocardial, \n",
    "    'chronic_stroke': stroke,\n",
    "    'chronic_diabetes': diabetes,\n",
    "    'chronic_asthma': asthma,\n",
    "    'chronic_arthritis': arthritis, \n",
    "    'chronic_cancer': cancer\n",
    "}\n",
    "\n",
    "for pid in rows:\n",
    "    person = rows[pid]\n",
    "    person_data = person.info\n",
    "    has_chronic = False\n",
    "    for code in person.info:\n",
    "        if 'chronic_hbp2' in code and person_data[code] is 1:\n",
    "            hbp2.append(pid)\n",
    "            continue\n",
    "        if code in diseases and person_data[code] is 1: \n",
    "            diseases[code].append(pid)\n",
    "            if not has_chronic:\n",
    "                has_chronic = True\n",
    "            else:\n",
    "                multiple.append(pid)\n",
    "                \n",
    "\n",
    "# This boolean controls whether the multiple condition group is mutually exclusive from individual\n",
    "separate = False\n",
    "if (separate):\n",
    "    # get people who only have that condition\n",
    "    set_multiple = set(multiple)\n",
    "    for disease in diseases:\n",
    "        setify = set(diseases[disease])\n",
    "        diseases[disease] = list(setify.difference(set_multiple))\n",
    "\n",
    "    # get people who only have hbp and who were diagnosed twice\n",
    "    set_hbp = set(hbp)\n",
    "    set_hbp2 = set(hbp2)\n",
    "    hbp2 = list(set_hbp.intersection(set_hbp2))   "
   ]
  },
  {
   "cell_type": "code",
   "execution_count": 149,
   "metadata": {
    "collapsed": false
   },
   "outputs": [],
   "source": [
    "# create sub samples of each condition\n",
    "shbp = sample_one(hbp, 0.7)\n",
    "scoronary = sample_one(coronary, 0.7)\n",
    "smyocardial = sample_one(myocardial, 0.7)\n",
    "sstroke = sample_one(stroke, 0.7)\n",
    "sdiabetes = sample_one(diabetes, 0.7)\n",
    "sasthma = sample_one(asthma, 0.7)\n",
    "sarthritis = sample_one(arthritis, 0.7)\n",
    "scancer = sample_one(cancer, 0.7)\n",
    "\n",
    "shbp2 = sample_one(hbp2, 0.7)\n",
    "smultiple = sample_one(multiple, 0.7)"
   ]
  },
  {
   "cell_type": "code",
   "execution_count": 150,
   "metadata": {
    "collapsed": false
   },
   "outputs": [
    {
     "name": "stdout",
     "output_type": "stream",
     "text": [
      "hbp 3758.78559949\n",
      "coronary 8180.85251046\n",
      "myocardial 9533.86068111\n",
      "stroke 9063.47313433\n",
      "diabetes 5568.9761039\n",
      "asthma 2502.32476994\n",
      "arthritis 4484.58450218\n",
      "cancer 5309.37359199\n",
      "hbp2 4291.1878464\n",
      "multiple 6740.47309598\n"
     ]
    }
   ],
   "source": [
    "# get subsidized spending for each condition (filtering out multiple)\n",
    "shbp_ssp = get_subsidized(shbp, rows)\n",
    "scoronary_ssp = get_subsidized(scoronary, rows)\n",
    "smyocardial_ssp = get_subsidized(smyocardial, rows)\n",
    "sstroke_ssp = get_subsidized(sstroke, rows)\n",
    "sdiabetes_ssp = get_subsidized(sdiabetes, rows)\n",
    "sasthma_ssp = get_subsidized(sasthma, rows)\n",
    "sarthritis_ssp = get_subsidized(sarthritis, rows)\n",
    "scancer_ssp = get_subsidized(scancer, rows)\n",
    "\n",
    "shbp2_ssp = get_subsidized(shbp2, rows)\n",
    "smultiple_ssp = get_subsidized(smultiple, rows)\n",
    "\n",
    "print 'hbp', np.average(shbp_ssp)\n",
    "print 'coronary', np.average(scoronary_ssp)\n",
    "print 'myocardial', np.average(smyocardial_ssp)\n",
    "print 'stroke', np.average(sstroke_ssp)\n",
    "print 'diabetes', np.average(sdiabetes_ssp)\n",
    "print 'asthma', np.average(sasthma_ssp)\n",
    "print 'arthritis', np.average(sarthritis_ssp)\n",
    "print 'cancer', np.average(scancer_ssp)\n",
    "\n",
    "print 'hbp2', np.average(shbp2_ssp)\n",
    "print 'multiple', np.average(smultiple_ssp)"
   ]
  },
  {
   "cell_type": "code",
   "execution_count": 151,
   "metadata": {
    "collapsed": false
   },
   "outputs": [
    {
     "name": "stdout",
     "output_type": "stream",
     "text": [
      "diabetes patients spent 19.1625310374 % more than average\n"
     ]
    }
   ],
   "source": [
    "all_s_sp = shbp_ssp + scoronary_ssp + smyocardial_ssp + sstroke_ssp + sdiabetes_ssp + sasthma_ssp + sarthritis_ssp + scancer_ssp\n",
    "avg_all_s_sp = np.average(all_s_sp)\n",
    "print 'diabetes patients spent', 100*(np.average(sdiabetes_ssp) - avg_all_s_sp)/avg_all_s_sp, '% more than average'"
   ]
  },
  {
   "cell_type": "code",
   "execution_count": 152,
   "metadata": {
    "collapsed": true
   },
   "outputs": [],
   "source": [
    "cared, uncared = [], []\n",
    "for pid in diabetes:\n",
    "    person = rows[pid]\n",
    "    care = 0\n",
    "    if ('diabetes_a1c' in person.info and person.info['diabetes_a1c']>0):\n",
    "        care += 1\n",
    "    if ('diabetes_foot' in person.info and person.info['diabetes_foot'] > 0):\n",
    "        care += 1\n",
    "    if ('diabetes_eye' in person.info and person.info['diabetes_eye'] > 0):\n",
    "        care += 1\n",
    "    if ('diabetes_cholest' in person.info and person.info['diabetes_cholest'] > 0):\n",
    "        care += 1\n",
    "    if (care <= 1):\n",
    "        uncared.append(pid)\n",
    "    else:\n",
    "        cared.append(pid)"
   ]
  },
  {
   "cell_type": "code",
   "execution_count": 153,
   "metadata": {
    "collapsed": false
   },
   "outputs": [
    {
     "name": "stdout",
     "output_type": "stream",
     "text": [
      "2261 490\n"
     ]
    }
   ],
   "source": [
    "print len(cared), len(uncared)"
   ]
  },
  {
   "cell_type": "code",
   "execution_count": 188,
   "metadata": {
    "collapsed": true
   },
   "outputs": [],
   "source": [
    "# get samples for cared and uncared group\n",
    "scared, suncared = sample_two(cared, uncared, 0.7)\n",
    "cared_cost = get_subsidized(scared,rows)\n",
    "uncared_cost = get_subsidized(suncared, rows)\n",
    "cared_msp = get_medicaid(scared,rows)\n",
    "uncared_msp = get_medicaid(suncared, rows)\n",
    "cared_mcsp = get_medicare(scared,rows)\n",
    "uncared_mcsp = get_medicare(suncared, rows)"
   ]
  },
  {
   "cell_type": "code",
   "execution_count": 189,
   "metadata": {
    "collapsed": false
   },
   "outputs": [
    {
     "name": "stdout",
     "output_type": "stream",
     "text": [
      "7144.90670554 4279.42565598\n",
      "1925.7696793 927.516034985\n",
      "5219.13702624 3351.90962099\n"
     ]
    }
   ],
   "source": [
    "print np.average(uncared_cost), np.average(cared_cost)\n",
    "print np.average(uncared_msp), np.average(cared_msp)\n",
    "print np.average(uncared_mcsp), np.average(cared_mcsp)"
   ]
  },
  {
   "cell_type": "code",
   "execution_count": 190,
   "metadata": {
    "collapsed": false
   },
   "outputs": [
    {
     "name": "stdout",
     "output_type": "stream",
     "text": [
      "spending uncared cared\n",
      "subsidized (5665.0834126515065, 8624.7299984272122) (3740.4547936093595, 4818.3965183439932)\n",
      "medicaid (1386.1580265845175, 2465.3813320160652) (717.83658065179179, 1137.1954893190536)\n",
      "medicare (3895.4885281755478, 6542.785524302587) (2852.1559571725952, 3851.6632848099121)\n"
     ]
    }
   ],
   "source": [
    "# get confidence intervals:\n",
    "ci_uncared = get_ci(uncared_cost, 0.05)\n",
    "ci_cared = get_ci(cared_cost, 0.05)\n",
    "ci_uc_msp = get_ci(uncared_msp, 0.05)\n",
    "ci_c_msp = get_ci(cared_msp, 0.05)\n",
    "ci_uc_mcsp = get_ci(uncared_mcsp, 0.05)\n",
    "ci_c_mcsp = get_ci(cared_mcsp, 0.05)\n",
    "print \"spending\", \"uncared\", \"cared\"\n",
    "print \"subsidized\", ci_uncared, ci_cared\n",
    "print \"medicaid\", ci_uc_msp, ci_c_msp\n",
    "print \"medicare\", ci_uc_mcsp, ci_c_mcsp"
   ]
  },
  {
   "cell_type": "code",
   "execution_count": 198,
   "metadata": {
    "collapsed": false
   },
   "outputs": [
    {
     "name": "stdout",
     "output_type": "stream",
     "text": [
      "The uncared group spend 25.0822626556 % more than average\n",
      "The uncared group spend 34.9861087979 % more medicaid than average.\n",
      "The uncared group spend 21.785290433 % more medicare than average.\n"
     ]
    }
   ],
   "source": [
    "avg_all = (np.average(uncared_cost)+np.average(cared_cost))/2\n",
    "avg_msp = (np.average(uncared_msp)+np.average(cared_msp))/2\n",
    "avg_mcsp = (np.average(uncared_mcsp)+np.average(cared_mcsp))/2\n",
    "print \"The uncared group spend\", 100*(np.average(uncared_cost)-avg_all)/avg_all, \"% more than average\"\n",
    "print \"The uncared group spend\", 100*(np.average(uncared_msp)-avg_msp)/avg_msp, \"% more medicaid than average.\"\n",
    "print \"The uncared group spend\", 100*(np.average(uncared_mcsp)-avg_mcsp)/avg_mcsp, \"% more medicare than average.\""
   ]
  },
  {
   "cell_type": "code",
   "execution_count": 193,
   "metadata": {
    "collapsed": true
   },
   "outputs": [],
   "source": [
    "# age breakdown for cared and uncared groups\n",
    "cared_young, cared_mid, cared_old = [], [], []\n",
    "uncared_young, uncared_mid, uncared_old = [], [], []\n",
    "for pid in scared:\n",
    "    person = rows[pid]\n",
    "    if person.info['demo_age']>=65:\n",
    "        cared_old.append(pid)\n",
    "    elif person.info['demo_age']>=45:\n",
    "        cared_mid.append(pid)\n",
    "    elif person.info['demo_age']>18:\n",
    "        cared_young.append(pid)\n",
    "\n",
    "for pid in suncared:\n",
    "    person = rows[pid]\n",
    "    if person.info['demo_age']>=65:\n",
    "        uncared_old.append(pid)\n",
    "    elif person.info['demo_age']>=45:\n",
    "        uncared_mid.append(pid)\n",
    "    elif person.info['demo_age']>18:\n",
    "        uncared_young.append(pid)"
   ]
  },
  {
   "cell_type": "code",
   "execution_count": 194,
   "metadata": {
    "collapsed": true
   },
   "outputs": [],
   "source": [
    "cared_old_cost = get_subsidized(cared_old, rows)\n",
    "cared_mid_cost = get_subsidized(cared_mid, rows)\n",
    "cared_young_cost = get_subsidized(cared_young, rows)\n",
    "uncared_old_cost = get_subsidized(uncared_old, rows)\n",
    "uncared_mid_cost = get_subsidized(uncared_mid, rows)\n",
    "uncared_young_cost = get_subsidized(uncared_young, rows)"
   ]
  },
  {
   "cell_type": "code",
   "execution_count": 195,
   "metadata": {
    "collapsed": false
   },
   "outputs": [
    {
     "name": "stdout",
     "output_type": "stream",
     "text": [
      "Subsidized Old Mid Young\n",
      "cared 6503.12765957 2531.7278481 3429.29545455\n",
      "uncared 9451.53076923 4516.6884058 1310.62790698\n"
     ]
    }
   ],
   "source": [
    "print 'Subsidized', 'Old', 'Mid', 'Young'\n",
    "print 'cared', np.average(cared_old_cost), np.average(cared_mid_cost), np.average(cared_young_cost)\n",
    "print 'uncared', np.average(uncared_old_cost), np.average(uncared_mid_cost), np.average(uncared_young_cost)"
   ]
  },
  {
   "cell_type": "code",
   "execution_count": 199,
   "metadata": {
    "collapsed": false
   },
   "outputs": [
    {
     "name": "stdout",
     "output_type": "stream",
     "text": [
      " uncared cared\n",
      "old (7584.0618708189741, 11318.999667642564) (5848.8260966943226, 7157.4292224546143)\n",
      "mid (3540.6605324619186, 5492.7162791322835) (2126.6903438941017, 2936.76535230843)\n",
      "young (1050.664103363089, 1570.5917105903995) (2987.4679112778194, 3871.1229978130896)\n"
     ]
    }
   ],
   "source": [
    "# get confidence intervals:\n",
    "ci_uncared_o = get_ci(uncared_old_cost, 0.05)\n",
    "ci_cared_o = get_ci(cared_old_cost, 0.05)\n",
    "ci_uncared_m = get_ci(uncared_mid_cost, 0.05)\n",
    "ci_cared_m = get_ci(cared_mid_cost, 0.05)\n",
    "ci_uncared_y = get_ci(uncared_young_cost, 0.05)\n",
    "ci_cared_y = get_ci(cared_young_cost, 0.05)\n",
    "print \"\", \"uncared\", \"cared\"\n",
    "print \"old\", ci_uncared_o, ci_cared_o\n",
    "print \"mid\", ci_uncared_m, ci_cared_m\n",
    "print \"young\", ci_uncared_y, ci_cared_y"
   ]
  },
  {
   "cell_type": "code",
   "execution_count": 200,
   "metadata": {
    "collapsed": false
   },
   "outputs": [
    {
     "name": "stdout",
     "output_type": "stream",
     "text": [
      "0.184798886345\n"
     ]
    }
   ],
   "source": [
    "m = (np.average(uncared_old_cost) + np.average(cared_old_cost))/2\n",
    "print \"The un100*(np.average(uncared_old_cost)-m)/m"
   ]
  }
 ],
 "metadata": {
  "kernelspec": {
   "display_name": "Python 2",
   "language": "python",
   "name": "python2"
  },
  "language_info": {
   "codemirror_mode": {
    "name": "ipython",
    "version": 2
   },
   "file_extension": ".py",
   "mimetype": "text/x-python",
   "name": "python",
   "nbconvert_exporter": "python",
   "pygments_lexer": "ipython2",
   "version": "2.7.10"
  }
 },
 "nbformat": 4,
 "nbformat_minor": 0
}
