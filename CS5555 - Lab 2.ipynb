{
 "cells": [
  {
   "cell_type": "code",
   "execution_count": 1,
   "metadata": {
    "collapsed": true
   },
   "outputs": [],
   "source": [
    "%matplotlib inline\n",
    "import loader\n",
    "import random\n",
    "import sys\n",
    "import numpy as np\n",
    "import matplotlib.pyplot as plt\n",
    "file = '2012-Consolidated-stripped.csv'"
   ]
  },
  {
   "cell_type": "code",
   "execution_count": 2,
   "metadata": {
    "collapsed": true
   },
   "outputs": [],
   "source": [
    "def reservoir_sample(iterator, k):\n",
    "    \"\"\"\n",
    "    Basic reservoir sample. Takes a target sample amount\n",
    "    \"\"\"\n",
    "    # fill the reservoir to start\n",
    "    iterator = iter(iterator)\n",
    "    result = [next(iterator) for _ in range(k)]\n",
    "    n = k\n",
    "    for item in iterator:\n",
    "        n += 1\n",
    "        s = random.randint(0, n)\n",
    "        if s < k:\n",
    "            result[s] = item\n",
    "    return result\n",
    "\n",
    "\n",
    "def get_sample_size(len1, len2, percent):\n",
    "    return int(min(len1, len2) * percent)"
   ]
  },
  {
   "cell_type": "code",
   "execution_count": 3,
   "metadata": {
    "collapsed": true
   },
   "outputs": [],
   "source": [
    "reload(loader)\n",
    "rows = loader.load_raw(file)"
   ]
  },
  {
   "cell_type": "code",
   "execution_count": 4,
   "metadata": {
    "collapsed": false
   },
   "outputs": [],
   "source": [
    "# split dataset by chronic / not_chronic\n",
    "chron = []\n",
    "notchron = []\n",
    "\n",
    "for pid in rows:\n",
    "    person = rows[pid]\n",
    "    person_data = person.info\n",
    "    chron_bool = False\n",
    "    for code in person.info:\n",
    "        if 'chronic_'in code and not chron_bool:\n",
    "                if person_data[code] is 1:\n",
    "                    chron_bool = True\n",
    "                elif person_data[code] is -9 or person_data[code] is -8 or person_data[code] is -7:\n",
    "                    rows[pid].chronic = -1\n",
    "            \n",
    "    if chron_bool:\n",
    "        chron.append(pid)\n",
    "    else:\n",
    "        notchron.append(pid)"
   ]
  },
  {
   "cell_type": "code",
   "execution_count": 5,
   "metadata": {
    "collapsed": true
   },
   "outputs": [],
   "source": [
    "# sample helpers\n",
    "def sample_two(l1, l2, pct):\n",
    "    ssize = get_sample_size(len(l1), len(l2), pct)\n",
    "    s1 = reservoir_sample(l1, ssize)\n",
    "    s2 = reservoir_sample(l2, ssize)\n",
    "    return s1, s2\n",
    "\n",
    "def sample_one(single, pct):\n",
    "    ssize = get_sample_size(len(single), sys.maxint, pct)\n",
    "    sample = reservoir_sample(single, ssize)\n",
    "    return sample\n",
    "\n",
    "def get_spending(id_list, rows):\n",
    "    return [rows[pid].info['spending_dist_total'] for pid in id_list]\n",
    "\n",
    "def get_subsidized(id_list, rows):\n",
    "    return [rows[pid].info['spending_pay_medicaid'] + rows[pid].info['spending_pay_medicare'] for pid in id_list]"
   ]
  },
  {
   "cell_type": "code",
   "execution_count": 6,
   "metadata": {
    "collapsed": false
   },
   "outputs": [],
   "source": [
    "# create samples of chronic / not chronic\n",
    "schron, snotchron = sample_two(chron, notchron, 0.7)"
   ]
  },
  {
   "cell_type": "code",
   "execution_count": 7,
   "metadata": {
    "collapsed": false
   },
   "outputs": [
    {
     "name": "stdout",
     "output_type": "stream",
     "text": [
      "chronic total spending 6443.59248471 15202.2793628\n",
      "not chronic total spending 1419.67996893 6860.3516817\n"
     ]
    }
   ],
   "source": [
    "# get average total spending for both groups\n",
    "schron_spend = get_spending(schron, rows)\n",
    "snotchron_spend = get_spending(snotchron, rows)\n",
    "print 'chronic total spending', np.average(schron_spend), np.std(schron_spend)\n",
    "print 'not chronic total spending', np.average(snotchron_spend), np.std(snotchron_spend)"
   ]
  },
  {
   "cell_type": "code",
   "execution_count": 8,
   "metadata": {
    "collapsed": false
   },
   "outputs": [
    {
     "name": "stdout",
     "output_type": "stream",
     "text": [
      "chronic sub spending 3045.3010001 10896.9305681\n",
      "not chronic sub spending 387.563938246 4693.1701641\n"
     ]
    }
   ],
   "source": [
    "# get average subsidized spending\n",
    "schron_sspend = get_subsidized(schron, rows)\n",
    "snotchron_sspend = get_subsidized(snotchron, rows)\n",
    "print 'chronic sub spending', np.average(schron_sspend), np.std(schron_sspend)\n",
    "print 'not chronic sub spending', np.average(snotchron_sspend), np.std(snotchron_sspend)"
   ]
  },
  {
   "cell_type": "code",
   "execution_count": 31,
   "metadata": {
    "collapsed": false
   },
   "outputs": [],
   "source": [
    "# get total visits\n",
    "schron_office = [rows[pid].info['service_office'] for pid in schron]\n",
    "snotchron_office = [rows[pid].info['service_office'] for pid in snotchron]\n",
    "\n",
    "# get cost per visit\n",
    "schron_cpv = [rows[pid].info['spending_dist_office']/rows[pid].info['service_office'] for pid in schron if rows[pid].info['service_office']>0]\n",
    "snotchron_cpv = [rows[pid].info['spending_dist_office']/rows[pid].info['service_office'] for pid in snotchron if rows[pid].info['service_office']>0]"
   ]
  },
  {
   "cell_type": "code",
   "execution_count": 10,
   "metadata": {
    "collapsed": false
   },
   "outputs": [
    {
     "name": "stdout",
     "output_type": "stream",
     "text": [
      "chronic office visits 6.40178658122 11.5713963727\n",
      "not chronic office visits 2.06185066511 4.79243506381\n",
      "chronic cost per visit 3.7349235474 32.3013914155\n",
      "not chronic cost per visit 1.64478417266 21.3392158026\n"
     ]
    }
   ],
   "source": [
    "print 'chronic office visits', np.average(schron_office), np.std(schron_office)\n",
    "print 'not chronic office visits', np.average(snotchron_office), np.std(snotchron_office)\n",
    "\n",
    "print 'chronic cost per visit', np.average(schron_cpv), np.std(schron_cpv)\n",
    "print 'not chronic cost per visit', np.average(snotchron_cpv), np.std(snotchron_cpv)"
   ]
  },
  {
   "cell_type": "code",
   "execution_count": 11,
   "metadata": {
    "collapsed": false
   },
   "outputs": [],
   "source": [
    "# split dataset between chronic conditions\n",
    "hbp = []\n",
    "coronary = []\n",
    "myocardial = []\n",
    "stroke = []\n",
    "diabetes = []\n",
    "asthma = []\n",
    "arthritis = []\n",
    "cancer = []\n",
    "\n",
    "hbp2 = []\n",
    "multiple = []\n",
    "\n",
    "diseases = {\n",
    "    'chronic_hbp': hbp, \n",
    "    'chronic_coronary': coronary, \n",
    "    'chronic_myocardial': myocardial, \n",
    "    'chronic_stroke': stroke,\n",
    "    'chronic_diabetes': diabetes,\n",
    "    'chronic_asthma': asthma,\n",
    "    'chronic_arthritis': arthritis, \n",
    "    'chronic_cancer': cancer\n",
    "}\n",
    "\n",
    "for pid in rows:\n",
    "    person = rows[pid]\n",
    "    person_data = person.info\n",
    "    has_chronic = False\n",
    "    for code in person.info:\n",
    "        if 'chronic_hbp2' in code and person_data[code] is 1:\n",
    "            hbp2.append(pid)\n",
    "            continue\n",
    "        if code in diseases and person_data[code] is 1: \n",
    "            diseases[code].append(pid)\n",
    "            if not has_chronic:\n",
    "                has_chronic = True\n",
    "            else:\n",
    "                multiple.append(pid)\n",
    "                \n",
    "\n",
    "# This boolean controls whether the multiple condition group is mutually exclusive from individual\n",
    "separate = False\n",
    "if (separate):\n",
    "    # get people who only have that condition\n",
    "    set_multiple = set(multiple)\n",
    "    for disease in diseases:\n",
    "        setify = set(diseases[disease])\n",
    "        diseases[disease] = list(setify.difference(set_multiple))\n",
    "\n",
    "    # get people who only have hbp and who were diagnosed twice\n",
    "    set_hbp = set(hbp)\n",
    "    set_hbp2 = set(hbp2)\n",
    "    hbp2 = list(set_hbp.intersection(set_hbp2))   "
   ]
  },
  {
   "cell_type": "code",
   "execution_count": 12,
   "metadata": {
    "collapsed": false
   },
   "outputs": [],
   "source": [
    "# create sub samples of each condition\n",
    "shbp = sample_one(hbp, 0.7)\n",
    "scoronary = sample_one(coronary, 0.7)\n",
    "smyocardial = sample_one(myocardial, 0.7)\n",
    "sstroke = sample_one(stroke, 0.7)\n",
    "sdiabetes = sample_one(diabetes, 0.7)\n",
    "sasthma = sample_one(asthma, 0.7)\n",
    "sarthritis = sample_one(arthritis, 0.7)\n",
    "scancer = sample_one(cancer, 0.7)\n",
    "\n",
    "shbp2 = sample_one(hbp2, 0.7)\n",
    "smultiple = sample_one(multiple, 0.7)"
   ]
  },
  {
   "cell_type": "code",
   "execution_count": 13,
   "metadata": {
    "collapsed": false
   },
   "outputs": [
    {
     "name": "stdout",
     "output_type": "stream",
     "text": [
      "hbp 3718.68354227\n",
      "coronary 8372.59205021\n",
      "myocardial 9024.48142415\n",
      "stroke 9757.26119403\n",
      "diabetes 5519.07636364\n",
      "asthma 2592.12615031\n",
      "arthritis 4699.04874684\n",
      "cancer 4871.08948686\n",
      "hbp2 4191.63875693\n",
      "multiple 6781.5083535\n"
     ]
    }
   ],
   "source": [
    "# get subsidized spending for each condition (filtering out multiple)\n",
    "shbp_ssp = get_subsidized(shbp, rows)\n",
    "scoronary_ssp = get_subsidized(scoronary, rows)\n",
    "smyocardial_ssp = get_subsidized(smyocardial, rows)\n",
    "sstroke_ssp = get_subsidized(sstroke, rows)\n",
    "sdiabetes_ssp = get_subsidized(sdiabetes, rows)\n",
    "sasthma_ssp = get_subsidized(sasthma, rows)\n",
    "sarthritis_ssp = get_subsidized(sarthritis, rows)\n",
    "scancer_ssp = get_subsidized(scancer, rows)\n",
    "\n",
    "shbp2_ssp = get_subsidized(shbp2, rows)\n",
    "smultiple_ssp = get_subsidized(smultiple, rows)\n",
    "\n",
    "print 'hbp', np.average(shbp_ssp)\n",
    "print 'coronary', np.average(scoronary_ssp)\n",
    "print 'myocardial', np.average(smyocardial_ssp)\n",
    "print 'stroke', np.average(sstroke_ssp)\n",
    "print 'diabetes', np.average(sdiabetes_ssp)\n",
    "print 'asthma', np.average(sasthma_ssp)\n",
    "print 'arthritis', np.average(sarthritis_ssp)\n",
    "print 'cancer', np.average(scancer_ssp)\n",
    "\n",
    "print 'hbp2', np.average(shbp2_ssp)\n",
    "print 'multiple', np.average(smultiple_ssp)"
   ]
  },
  {
   "cell_type": "code",
   "execution_count": 14,
   "metadata": {
    "collapsed": true
   },
   "outputs": [],
   "source": [
    "# diabetes is unexpectedly the 4th highest single conditions -- let's take a closer look"
   ]
  },
  {
   "cell_type": "code",
   "execution_count": 25,
   "metadata": {
    "collapsed": true
   },
   "outputs": [],
   "source": [
    "cared, uncared = [], []\n",
    "for pid in sdiabetes:\n",
    "    person = rows[pid]\n",
    "    care = 0\n",
    "    if ('diabetes_a1c' in person.info and person.info['diabetes_a1c']>0):\n",
    "        care += 1\n",
    "    if ('diabetes_foot' in person.info and person.info['diabetes_foot'] > 0):\n",
    "        care += 1\n",
    "    if ('diabetes_eye' in person.info and person.info['diabetes_eye'] > 0):\n",
    "        care += 1\n",
    "    if ('diabetes_cholest' in person.info and person.info['diabetes_cholest'] > 0):\n",
    "        care += 1\n",
    "    if (care <= 1):\n",
    "        uncared.append(pid)\n",
    "    else:\n",
    "        cared.append(pid)"
   ]
  },
  {
   "cell_type": "code",
   "execution_count": 16,
   "metadata": {
    "collapsed": false
   },
   "outputs": [
    {
     "name": "stdout",
     "output_type": "stream",
     "text": [
      "1570 355\n"
     ]
    }
   ],
   "source": [
    "print len(cared), len(uncared)"
   ]
  },
  {
   "cell_type": "code",
   "execution_count": 17,
   "metadata": {
    "collapsed": true
   },
   "outputs": [],
   "source": [
    "# get samples for cared and uncared groups\n",
    "ssize = get_sample_size(len(cared), len(uncared), 0.7)\n",
    "scared = reservoir_sample(cared, ssize)\n",
    "suncared = reservoir_sample(uncared, ssize)"
   ]
  },
  {
   "cell_type": "code",
   "execution_count": 18,
   "metadata": {
    "collapsed": true
   },
   "outputs": [],
   "source": [
    "cared_cost = [rows[pid].info['spending_pay_medicaid']+rows[pid].info['spending_pay_medicare'] for pid in scared]\n",
    "uncared_cost = [rows[pid].info['spending_pay_medicaid']+rows[pid].info['spending_pay_medicare'] for pid in suncared]"
   ]
  },
  {
   "cell_type": "code",
   "execution_count": 19,
   "metadata": {
    "collapsed": false
   },
   "outputs": [
    {
     "name": "stdout",
     "output_type": "stream",
     "text": [
      "6893.89516129 5572.84677419\n"
     ]
    }
   ],
   "source": [
    "print np.average(uncared_cost), np.average(cared_cost)"
   ]
  },
  {
   "cell_type": "code",
   "execution_count": 20,
   "metadata": {
    "collapsed": true
   },
   "outputs": [],
   "source": [
    "# age breakdown for cared and uncared groups\n",
    "cared_young, cared_mid, cared_old = [], [], []\n",
    "uncared_young, uncared_mid, uncared_old = [], [], []\n",
    "for pid in cared:\n",
    "    person = rows[pid]\n",
    "    if person.info['demo_age']>=65:\n",
    "        cared_old.append(pid)\n",
    "    elif person.info['demo_age']>=45:\n",
    "        cared_mid.append(pid)\n",
    "    elif person.info['demo_age']>18:\n",
    "        cared_young.append(pid)\n",
    "\n",
    "for pid in uncared:\n",
    "    person = rows[pid]\n",
    "    if person.info['demo_age']>=65:\n",
    "        uncared_old.append(pid)\n",
    "    elif person.info['demo_age']>=45:\n",
    "        uncared_mid.append(pid)\n",
    "    elif person.info['demo_age']>18:\n",
    "        uncared_young.append(pid)"
   ]
  },
  {
   "cell_type": "code",
   "execution_count": 21,
   "metadata": {
    "collapsed": true
   },
   "outputs": [],
   "source": [
    "cared_old_cost = [rows[pid].info['spending_pay_medicaid']+rows[pid].info['spending_pay_medicare'] for pid in cared_old]\n",
    "cared_mid_cost = [rows[pid].info['spending_pay_medicaid']+rows[pid].info['spending_pay_medicare'] for pid in cared_mid]\n",
    "cared_young_cost = [rows[pid].info['spending_pay_medicaid']+rows[pid].info['spending_pay_medicare'] for pid in cared_young]\n",
    "uncared_old_cost = [rows[pid].info['spending_pay_medicaid']+rows[pid].info['spending_pay_medicare'] for pid in uncared_old]\n",
    "uncared_mid_cost = [rows[pid].info['spending_pay_medicaid']+rows[pid].info['spending_pay_medicare'] for pid in uncared_mid]\n",
    "uncared_young_cost = [rows[pid].info['spending_pay_medicaid']+rows[pid].info['spending_pay_medicare'] for pid in uncared_young]"
   ]
  },
  {
   "cell_type": "code",
   "execution_count": 22,
   "metadata": {
    "collapsed": false
   },
   "outputs": [
    {
     "name": "stdout",
     "output_type": "stream",
     "text": [
      " Old Mid Young\n",
      "cared 7745.0952381 3292.12054795 3582.9952381\n",
      "uncared 8698.24193548 4115.92361111 1401.75862069\n"
     ]
    }
   ],
   "source": [
    "print '', 'Old', 'Mid', 'Young'\n",
    "print 'cared', np.average(cared_old_cost), np.average(cared_mid_cost), np.average(cared_young_cost)\n",
    "print 'uncared', np.average(uncared_old_cost), np.average(uncared_mid_cost), np.average(uncared_young_cost)"
   ]
  },
  {
   "cell_type": "code",
   "execution_count": 29,
   "metadata": {
    "collapsed": false
   },
   "outputs": [
    {
     "data": {
      "image/png": "[encoded data removed]",
      "text/plain": [
       "<matplotlib.figure.Figure at 0x112f9dc90>"
      ]
     },
     "metadata": {},
     "output_type": "display_data"
    }
   ],
   "source": [
    "from matplotlib import pyplot as plt\n",
    "plt.hist(cared_old_cost)\n",
    "plt.show()"
   ]
  },
  {
   "cell_type": "code",
   "execution_count": 30,
   "metadata": {
    "collapsed": false
   },
   "outputs": [
    {
     "data": {
      "image/png": "[encoded data removed]",
      "text/plain": [
       "<matplotlib.figure.Figure at 0x113048890>"
      ]
     },
     "metadata": {},
     "output_type": "display_data"
    }
   ],
   "source": [
    "plt.hist(uncared_old_cost)\n",
    "plt.show()"
   ]
  },
  {
   "cell_type": "code",
   "execution_count": null,
   "metadata": {
    "collapsed": true
   },
   "outputs": [],
   "source": []
  }
 ],
 "metadata": {
  "kernelspec": {
   "display_name": "Python 2",
   "language": "python",
   "name": "python2"
  },
  "language_info": {
   "codemirror_mode": {
    "name": "ipython",
    "version": 2
   },
   "file_extension": ".py",
   "mimetype": "text/x-python",
   "name": "python",
   "nbconvert_exporter": "python",
   "pygments_lexer": "ipython2",
   "version": "2.7.10"
  }
 },
 "nbformat": 4,
 "nbformat_minor": 0
}
