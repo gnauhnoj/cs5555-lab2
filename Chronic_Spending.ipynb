{
 "cells": [
  {
   "cell_type": "code",
   "execution_count": 99,
   "metadata": {
    "collapsed": true
   },
   "outputs": [],
   "source": [
    "%matplotlib inline\n",
    "import loader\n",
    "import random\n",
    "import sys\n",
    "import numpy as np\n",
    "import matplotlib.pyplot as plt\n",
    "file = '2012-Consolidated-stripped.csv'"
   ]
  },
  {
   "cell_type": "code",
   "execution_count": 100,
   "metadata": {
    "collapsed": true
   },
   "outputs": [],
   "source": [
    "def reservoir_sample(iterator, k):\n",
    "    \"\"\"\n",
    "    Basic reservoir sample. Takes a target sample amount\n",
    "    \"\"\"\n",
    "    # fill the reservoir to start\n",
    "    iterator = iter(iterator)\n",
    "    result = [next(iterator) for _ in range(k)]\n",
    "    n = k\n",
    "    for item in iterator:\n",
    "        n += 1\n",
    "        s = random.randint(0, n)\n",
    "        if s < k:\n",
    "            result[s] = item\n",
    "    return result\n",
    "\n",
    "\n",
    "def get_sample_size(len1, len2, percent):\n",
    "    return int(min(len1, len2) * percent)\n",
    "\n",
    "\n",
    "# in hindsight, not sure we need this (since we care about magnitude) but it's here if needed\n",
    "def normalized(a, axis=-1, order=2):\n",
    "    l2 = np.atleast_1d(np.linalg.norm(a, order, axis))\n",
    "    l2[l2==0] = 1\n",
    "    return a / np.expand_dims(l2, axis)"
   ]
  },
  {
   "cell_type": "code",
   "execution_count": 101,
   "metadata": {
    "collapsed": false
   },
   "outputs": [],
   "source": [
    "reload(loader)\n",
    "rows = loader.load_raw(file)"
   ]
  },
  {
   "cell_type": "code",
   "execution_count": 102,
   "metadata": {
    "collapsed": false
   },
   "outputs": [],
   "source": [
    "chronic = []\n",
    "not_chronic = []\n",
    "\n",
    "for pid in rows:\n",
    "    person = rows[pid]\n",
    "    person_data = person.info\n",
    "    chron = False\n",
    "    for code in person.info:\n",
    "        if 'chronic_'in code and not chron:\n",
    "                if person_data[code] is 1:\n",
    "                    chron = True\n",
    "                elif person_data[code] is -9 or person_data[code] is -8 or person_data[code] is -7:\n",
    "                    rows[pid].chronic = -1\n",
    "            \n",
    "    if chron:\n",
    "        chronic.append(pid)\n",
    "    else:\n",
    "        not_chronic.append(pid)\n",
    "    \n",
    "    person.age = person_data['demo_age']\n",
    "    \n",
    "    if 'spending_dist_total' in person.info:\n",
    "        person.spend = person_data['spending_dist_total']\n",
    "    else:\n",
    "        person.spend = 0\n",
    "    \n",
    "    if 'service_office' in person.info:\n",
    "        person.office = person_data['service_office']\n",
    "    else:\n",
    "        person.office = 0\n",
    "        \n",
    "    if 'spending_dist_office' in person.info:\n",
    "        person.officesp = person_data['spending_dist_office']\n",
    "    else:\n",
    "        person.officesp = 0"
   ]
  },
  {
   "cell_type": "code",
   "execution_count": 103,
   "metadata": {
    "collapsed": false
   },
   "outputs": [],
   "source": [
    "# calculate sample size\n",
    "ssize = get_sample_size(len(chronic), len(not_chronic), 0.70)\n",
    "\n",
    "# sample chronic and non-chronic\n",
    "schron = reservoir_sample(chronic, ssize)\n",
    "snot = reservoir_sample(not_chronic, ssize)"
   ]
  },
  {
   "cell_type": "code",
   "execution_count": 104,
   "metadata": {
    "collapsed": false
   },
   "outputs": [],
   "source": [
    "# get spend for each\n",
    "schron_spend = [rows[pid].spend for pid in schron]\n",
    "snot_spend = [rows[pid].spend for pid in snot]"
   ]
  },
  {
   "cell_type": "code",
   "execution_count": 105,
   "metadata": {
    "collapsed": false
   },
   "outputs": [
    {
     "name": "stdout",
     "output_type": "stream",
     "text": [
      "6519.69249442 1713.0 16322.3312975\n",
      "1532.23011943 191.0 9198.33781935\n"
     ]
    }
   ],
   "source": [
    "print np.average(schron_spend), np.median(schron_spend), np.std(schron_spend)\n",
    "print np.average(snot_spend), np.median(snot_spend), np.std(snot_spend)"
   ]
  },
  {
   "cell_type": "code",
   "execution_count": 106,
   "metadata": {
    "collapsed": true
   },
   "outputs": [],
   "source": [
    "# get office visit for each\n",
    "schron_office = [rows[pid].office for pid in schron]\n",
    "snot_office = [rows[pid].office for pid in snot]"
   ]
  },
  {
   "cell_type": "code",
   "execution_count": 107,
   "metadata": {
    "collapsed": false
   },
   "outputs": [
    {
     "name": "stdout",
     "output_type": "stream",
     "text": [
      "6.5052917759\n",
      "2.07359937858\n"
     ]
    }
   ],
   "source": [
    "print(np.average(schron_office))\n",
    "print(np.average(snot_office))"
   ]
  },
  {
   "cell_type": "code",
   "execution_count": 108,
   "metadata": {
    "collapsed": false
   },
   "outputs": [],
   "source": [
    "# get cost per visit for each\n",
    "schron_cpv = [rows[pid].officesp/rows[pid].office for pid in schron if rows[pid].office>0]\n",
    "snot_cpv = [rows[pid].officesp/rows[pid].office for pid in snot if rows[pid].office>0]"
   ]
  },
  {
   "cell_type": "code",
   "execution_count": 109,
   "metadata": {
    "collapsed": false
   },
   "outputs": [
    {
     "name": "stdout",
     "output_type": "stream",
     "text": [
      "3.5956744868\n",
      "2.07359937858\n"
     ]
    }
   ],
   "source": [
    "print(np.average(schron_cpv))\n",
    "print(np.average(snot_office))"
   ]
  },
  {
   "cell_type": "code",
   "execution_count": 110,
   "metadata": {
    "collapsed": false
   },
   "outputs": [],
   "source": [
    "# breakdown in to age groups\n",
    "chron_young, chron_mid, chron_old = [],[],[]\n",
    "for pid in chronic:\n",
    "    if rows[pid].age>18 and rows[pid].age<45:\n",
    "        chron_young.append(pid)\n",
    "    elif rows[pid].age>=45 and rows[pid].age<65:\n",
    "        chron_mid.append(pid)\n",
    "    elif rows[pid].age>=65:\n",
    "        chron_old.append(pid)\n",
    "\n",
    "notchron_young, notchron_mid, notchron_old = [],[],[]\n",
    "for pid in not_chronic:\n",
    "    if rows[pid].age>18 and rows[pid].age<45:\n",
    "        notchron_young.append(pid)\n",
    "    elif rows[pid].age>=45 and rows[pid].age<65:\n",
    "        notchron_mid.append(pid)\n",
    "    elif rows[pid].age>=65:\n",
    "        notchron_old.append(pid)  "
   ]
  },
  {
   "cell_type": "code",
   "execution_count": 111,
   "metadata": {
    "collapsed": false
   },
   "outputs": [],
   "source": [
    "# sample for each age group\n",
    "def sample_age_group(chron, notchron):\n",
    "    ssize_age = get_sample_size(len(chron), len(notchron), 0.7)\n",
    "    schron_age = reservoir_sample(chron, ssize_age)\n",
    "    snotchron_age = reservoir_sample(notchron, ssize_age)\n",
    "    return schron_age, snotchron_age\n",
    "\n",
    "schron_young, snotchron_young = sample_age_group(chron_young, notchron_young)\n",
    "schron_mid, snotchron_mid = sample_age_group(chron_mid, notchron_mid)\n",
    "schron_old, snotchron_old = sample_age_group(chron_old, notchron_old)"
   ]
  },
  {
   "cell_type": "code",
   "execution_count": 112,
   "metadata": {
    "collapsed": false
   },
   "outputs": [
    {
     "name": "stdout",
     "output_type": "stream",
     "text": [
      "2538 2408 320\n"
     ]
    }
   ],
   "source": [
    "print len(schron_young), len(schron_mid), len(schron_old)"
   ]
  },
  {
   "cell_type": "code",
   "execution_count": 113,
   "metadata": {
    "collapsed": false
   },
   "outputs": [],
   "source": [
    "# gspending\n",
    "chron_young_sp = [rows[pid].spend for pid in schron_young]\n",
    "chron_mid_sp = [rows[pid].spend for pid in schron_mid]\n",
    "chron_old_sp = [rows[pid].spend for pid in schron_old]\n",
    "notchron_young_sp = [rows[pid].spend for pid in snotchron_young]\n",
    "notchron_mid_sp = [rows[pid].spend for pid in snotchron_mid]\n",
    "notchron_old_sp = [rows[pid].spend for pid in snotchron_old]"
   ]
  },
  {
   "cell_type": "code",
   "execution_count": 114,
   "metadata": {
    "collapsed": false
   },
   "outputs": [
    {
     "name": "stdout",
     "output_type": "stream",
     "text": [
      "3892.5965327 1511.12174941\n",
      "6548.32765781 1580.285299\n",
      "10873.796875 2071.43125\n"
     ]
    }
   ],
   "source": [
    "print np.average(chron_young_sp), np.average(notchron_young_sp)\n",
    "print np.average(chron_mid_sp), np.average(notchron_mid_sp)\n",
    "print np.average(chron_old_sp), np.average(notchron_old_sp)"
   ]
  },
  {
   "cell_type": "code",
   "execution_count": 115,
   "metadata": {
    "collapsed": true
   },
   "outputs": [],
   "source": [
    "chron_young_ov = [rows[pid].office for pid in chronic if rows[pid].age>18 and rows[pid].age < 45]\n",
    "chron_mid_ov = [rows[pid].office for pid in chronic if rows[pid].age>=45 and rows[pid].age < 65]\n",
    "chron_old_ov = [rows[pid].office for pid in chronic if rows[pid].age>=65]\n",
    "notchron_young_ov = [rows[pid].office for pid in not_chronic if rows[pid].age>18 and rows[pid].age < 45]\n",
    "notchron_mid_ov = [rows[pid].office for pid in not_chronic if rows[pid].age>=45 and rows[pid].age < 65]\n",
    "notchron_old_ov = [rows[pid].office for pid in not_chronic if rows[pid].age>=65]"
   ]
  },
  {
   "cell_type": "code",
   "execution_count": 116,
   "metadata": {
    "collapsed": false
   },
   "outputs": [
    {
     "name": "stdout",
     "output_type": "stream",
     "text": [
      "4.50523993381 1.86236261016\n",
      "6.47518588968 2.3254867771\n",
      "9.26730869339 3.75545851528\n"
     ]
    }
   ],
   "source": [
    "print np.average(chron_young_ov), np.average(notchron_young_ov)\n",
    "print np.average(chron_mid_ov), np.average(notchron_mid_ov)\n",
    "print np.average(chron_old_ov), np.average(notchron_old_ov)"
   ]
  },
  {
   "cell_type": "code",
   "execution_count": 117,
   "metadata": {
    "collapsed": false
   },
   "outputs": [
    {
     "name": "stdout",
     "output_type": "stream",
     "text": [
      "6861 2583 100 517 46 189\n"
     ]
    }
   ],
   "source": [
    "# race\n",
    "\n",
    "chron_white = [pid for pid in chronic if rows[pid].info['demo_race_input'] is 1]\n",
    "chron_black = [pid for pid in chronic if rows[pid].info['demo_race_input'] is 2]\n",
    "chron_native = [pid for pid in chronic if rows[pid].info['demo_race_input'] is 3]\n",
    "chron_asian = [pid for pid in chronic if rows[pid].info['demo_race_input'] is 4]\n",
    "chron_pisland = [pid for pid in chronic if rows[pid].info['demo_race_input'] is 5]\n",
    "chron_multiple = [pid for pid in chronic if rows[pid].info['demo_race_input'] is 6]\n",
    "\n",
    "notchron_white = [pid for pid in not_chronic if rows[pid].info['demo_race_input'] is 1]\n",
    "notchron_black = [pid for pid in not_chronic if rows[pid].info['demo_race_input'] is 2]\n",
    "notchron_native = [pid for pid in not_chronic if rows[pid].info['demo_race_input'] is 3]\n",
    "notchron_asian = [pid for pid in not_chronic if rows[pid].info['demo_race_input'] is 4]\n",
    "notchron_pisland = [pid for pid in not_chronic if rows[pid].info['demo_race_input'] is 5]\n",
    "notchron_multiple = [pid for pid in not_chronic if rows[pid].info['demo_race_input'] is 6]\n",
    "\n",
    "def sample_two(l1, l2, pct):\n",
    "    ssize = get_sample_size(len(l1), len(l2), pct)\n",
    "    s1 = reservoir_sample(l1, ssize)\n",
    "    s2 = reservoir_sample(l2, ssize)\n",
    "    return s1, s2\n",
    "\n",
    "schron_white, snotchron_white = sample_two(chron_white, notchron_white, 0.7)\n",
    "schron_black, snotchron_black = sample_two(chron_black, notchron_black, 0.7)\n",
    "schron_native, snotchron_native = sample_two(chron_native, notchron_native, 0.7)\n",
    "schron_asian, snotchron_asian = sample_two(chron_asian, notchron_asian, 0.7)\n",
    "schron_pisland, snotchron_pisland = sample_two(chron_pisland, notchron_pisland, 0.7)\n",
    "schron_multiple, snotchron_multiple = sample_two(chron_multiple, notchron_multiple, 0.7)\n",
    "print len(schron_white), len(schron_black), len(schron_native), len(schron_asian), len(schron_pisland), len(schron_multiple)"
   ]
  },
  {
   "cell_type": "code",
   "execution_count": 119,
   "metadata": {
    "collapsed": false
   },
   "outputs": [
    {
     "name": "stdout",
     "output_type": "stream",
     "text": [
      "white 6738.61361318 1387.89054074\n",
      "black 5719.36662795 1362.85753\n",
      "native 4992.74 869.35\n",
      "asian 5756.05996132 1412.81431335\n",
      "pislander 4543.13043478 517.260869565\n",
      "multiple 6988.87301587 1637.26984127\n"
     ]
    }
   ],
   "source": [
    "chron_white_sp, notchron_white_sp = [rows[pid].spend for pid in schron_white], [rows[pid].spend for pid in snotchron_white] \n",
    "chron_black_sp, notchron_black_sp = [rows[pid].spend for pid in schron_black], [rows[pid].spend for pid in snotchron_black] \n",
    "chron_native_sp, notchron_native_sp = [rows[pid].spend for pid in schron_native], [rows[pid].spend for pid in snotchron_native] \n",
    "chron_asian_sp, notchron_asian_sp = [rows[pid].spend for pid in schron_asian], [rows[pid].spend for pid in snotchron_asian] \n",
    "chron_pisland_sp, notchron_pisland_sp = [rows[pid].spend for pid in schron_pisland], [rows[pid].spend for pid in snotchron_pisland] \n",
    "chron_multiple_sp, notchron_multiple_sp = [rows[pid].spend for pid in schron_multiple], [rows[pid].spend for pid in snotchron_multiple] \n",
    "\n",
    "print 'white', np.average(chron_white_sp), np.average(notchron_white_sp)\n",
    "print 'black', np.average(chron_black_sp), np.average(notchron_black_sp)\n",
    "print 'native', np.average(chron_native_sp), np.average(notchron_native_sp)\n",
    "print 'asian', np.average(chron_asian_sp), np.average(notchron_asian_sp)\n",
    "print 'pislander', np.average(chron_pisland_sp), np.average(notchron_pisland_sp)\n",
    "print 'multiple', np.average(chron_multiple_sp), np.average(notchron_multiple_sp)"
   ]
  },
  {
   "cell_type": "code",
   "execution_count": 120,
   "metadata": {
    "collapsed": false
   },
   "outputs": [
    {
     "name": "stdout",
     "output_type": "stream",
     "text": [
      "12399\n",
      "4911\n",
      "6278 133 38 958 2441 2524 1463 878\n"
     ]
    }
   ],
   "source": [
    "# diseases\n",
    "hbp = []\n",
    "coronary = []\n",
    "myocardial = []\n",
    "stroke = []\n",
    "diabetes = []\n",
    "asthma = []\n",
    "arthritis = []\n",
    "cancer = []\n",
    "\n",
    "hbp2 = []\n",
    "multiple = []\n",
    "\n",
    "diseases = {\n",
    "    'chronic_hbp': hbp, \n",
    "    'chronic_coronary': coronary, \n",
    "    'chronic_myocardial': myocardial, \n",
    "    'chronic_stroke': stroke,\n",
    "    'chronic_diabetes': diabetes,\n",
    "    'chronic_asthma': asthma,\n",
    "    'chronic_arthritis': arthritis, \n",
    "    'chronic_cancer': cancer\n",
    "}\n",
    "\n",
    "for pid in rows:\n",
    "    person = rows[pid]\n",
    "    person_data = person.info\n",
    "    has_chronic = False\n",
    "    for code in person.info:\n",
    "        if 'chronic_hbp2' in code and person_data[code] is 1:\n",
    "            hbp2.append(pid)\n",
    "            continue\n",
    "        if code in diseases and person_data[code] is 1: \n",
    "            if not has_chronic:\n",
    "                diseases[code].append(pid)\n",
    "                has_chronic = True\n",
    "            else:\n",
    "                multiple.append(pid)\n",
    "            \n",
    "# get people who only have that condition\n",
    "set_multiple = set(multiple)\n",
    "for disease in diseases:\n",
    "    setify = set(diseases[disease])\n",
    "    diseases[disease] = list(setify.difference(set_multiple))\n",
    "\n",
    "# get people who only have hbp and who were diagnosed twice\n",
    "set_hbp = set(hbp)\n",
    "set_hbp2 = set(hbp2)\n",
    "hbp2 = list(set_hbp.intersection(set_hbp2))\n",
    "\n",
    "# print len(multiple)\n",
    "# print len(hbp2)\n",
    "# print len(hbp), len(coronary), len(myocardial), len(stroke), len(diabetes), len(asthma), len(arthritis), len(cancer)"
   ]
  },
  {
   "cell_type": "code",
   "execution_count": 121,
   "metadata": {
    "collapsed": false
   },
   "outputs": [],
   "source": [
    "def sample_single(single, pct):\n",
    "    ssize = get_sample_size(len(single), sys.maxint, pct)\n",
    "    sample = reservoir_sample(single, ssize)\n",
    "    return sample\n",
    "\n",
    "shbp = sample_single(hbp, 0.7)\n",
    "scoronary = sample_single(coronary, 0.7)\n",
    "smyocardial = sample_single(myocardial, 0.7)\n",
    "sstroke = sample_single(stroke, 0.7)\n",
    "sdiabetes = sample_single(diabetes, 0.7)\n",
    "sasthma = sample_single(asthma, 0.7)\n",
    "sarthritis = sample_single(arthritis, 0.7)\n",
    "scancer = sample_single(cancer, 0.7)\n",
    "\n",
    "shbp2 = sample_single(hbp2, 0.7)\n",
    "smultiple = sample_single(multiple, 0.7)"
   ]
  },
  {
   "cell_type": "code",
   "execution_count": 122,
   "metadata": {
    "collapsed": false
   },
   "outputs": [
    {
     "name": "stdout",
     "output_type": "stream",
     "text": [
      "hbp 5623.58898498\n",
      "coronary 4926.62365591\n",
      "myocardial 2194.57692308\n",
      "stroke 14046.0313433\n",
      "diabetes 9047.3559719\n",
      "asthma 2775.4382786\n",
      "arthritis 4970.16894531\n",
      "cancer 8986.22312704\n",
      "hbp2 6220.49170788\n",
      "multiple 11728.5988017\n"
     ]
    }
   ],
   "source": [
    "def get_spending(id_list, rows):\n",
    "    return [rows[pid].info['spending_dist_total'] for pid in id_list]\n",
    "\n",
    "shbp_sp = get_spending(shbp, rows)\n",
    "scoronary_sp = get_spending(scoronary, rows)\n",
    "smyocardial_sp = get_spending(smyocardial, rows)\n",
    "sstroke_sp = get_spending(sstroke, rows)\n",
    "sdiabetes_sp = get_spending(sdiabetes, rows)\n",
    "sasthma_sp = get_spending(sasthma, rows)\n",
    "sarthritis_sp = get_spending(sarthritis, rows)\n",
    "scancer_sp = get_spending(scancer, rows)\n",
    "\n",
    "shbp2_sp = get_spending(shbp2, rows)\n",
    "smultiple_sp = get_spending(smultiple, rows)\n",
    "\n",
    "print 'hbp', np.average(shbp_sp)\n",
    "print 'coronary', np.average(scoronary_sp)\n",
    "print 'myocardial', np.average(smyocardial_sp)\n",
    "print 'stroke', np.average(sstroke_sp)\n",
    "print 'diabetes', np.average(sdiabetes_sp)\n",
    "print 'asthma', np.average(sasthma_sp)\n",
    "print 'arthritis', np.average(sarthritis_sp)\n",
    "print 'cancer', np.average(scancer_sp)\n",
    "\n",
    "print 'hbp2', np.average(shbp2_sp)\n",
    "print 'multiple', np.average(smultiple_sp)"
   ]
  },
  {
   "cell_type": "code",
   "execution_count": 125,
   "metadata": {
    "collapsed": false
   },
   "outputs": [],
   "source": [
    "# income\n",
    "schron_inc = [rows[pid].info['demo_fam_income_pl'] for pid in schron]\n",
    "snotchron_inc = [rows[pid].info['demo_fam_income_pl'] for pid in snot]\n",
    "\n",
    "# actually nevermind this isn't going to be interesting"
   ]
  },
  {
   "cell_type": "code",
   "execution_count": null,
   "metadata": {
    "collapsed": true
   },
   "outputs": [],
   "source": []
  }
 ],
 "metadata": {
  "kernelspec": {
   "display_name": "Python 2",
   "language": "python",
   "name": "python2"
  },
  "language_info": {
   "codemirror_mode": {
    "name": "ipython",
    "version": 2
   },
   "file_extension": ".py",
   "mimetype": "text/x-python",
   "name": "python",
   "nbconvert_exporter": "python",
   "pygments_lexer": "ipython2",
   "version": "2.7.10"
  }
 },
 "nbformat": 4,
 "nbformat_minor": 0
}
