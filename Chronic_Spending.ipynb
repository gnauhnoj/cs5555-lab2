{
 "cells": [
  {
   "cell_type": "code",
   "execution_count": 4,
   "metadata": {
    "collapsed": true
   },
   "outputs": [],
   "source": [
    "%matplotlib inline\n",
    "import loader\n",
    "import random\n",
    "import numpy as np\n",
    "import matplotlib.pyplot as plt\n",
    "file = '2012-Consolidated-stripped.csv'"
   ]
  },
  {
   "cell_type": "code",
   "execution_count": 44,
   "metadata": {
    "collapsed": true
   },
   "outputs": [],
   "source": [
    "def reservoir_sample(iterator, k):\n",
    "    \"\"\"\n",
    "    Basic reservoir sample. Takes a target sample amount\n",
    "    \"\"\"\n",
    "    # fill the reservoir to start\n",
    "    iterator = iter(iterator)\n",
    "    result = [next(iterator) for _ in range(k)]\n",
    "    n = k\n",
    "    for item in iterator:\n",
    "        n += 1\n",
    "        s = random.randint(0, n)\n",
    "        if s < k:\n",
    "            result[s] = item\n",
    "    return result\n",
    "\n",
    "\n",
    "def get_sample_size(len1, len2, percent):\n",
    "    return int(min(len1, len2) * percent)\n",
    "\n",
    "\n",
    "# in hindsight, not sure we need this (since we care about magnitude) but it's here\n",
    "def normalized(a, axis=-1, order=2):\n",
    "    l2 = np.atleast_1d(np.linalg.norm(a, order, axis))\n",
    "    l2[l2==0] = 1\n",
    "    return a / np.expand_dims(l2, axis)"
   ]
  },
  {
   "cell_type": "code",
   "execution_count": 6,
   "metadata": {
    "collapsed": false
   },
   "outputs": [],
   "source": [
    "reload(loader)\n",
    "rows = loader.load_raw(file)"
   ]
  },
  {
   "cell_type": "code",
   "execution_count": 7,
   "metadata": {
    "collapsed": false
   },
   "outputs": [],
   "source": [
    "chronic = []\n",
    "not_chronic = []\n",
    "\n",
    "for pid in rows:\n",
    "    person = rows[pid]\n",
    "    person_data = person.info\n",
    "    chron = False\n",
    "    all_pop = True\n",
    "    for code in person.info:\n",
    "        if 'chronic_'in code and not chron:\n",
    "                if person_data[code] is 1:\n",
    "                    chron = True\n",
    "                elif person_data[code] is -9 or person_data[code] is -8 or person_data[code] is -7:\n",
    "                    rows[pid].chronic = -1\n",
    "            \n",
    "    if chron:\n",
    "        chronic.append(pid)\n",
    "    else:\n",
    "        not_chronic.append(pid)\n",
    "    \n",
    "    person.age = person_data['demo_age']\n",
    "    \n",
    "    if 'spending_dist_total' in person.info:\n",
    "        person.spend = person_data['spending_dist_total']\n",
    "    else:\n",
    "        person.spend = 0\n",
    "    \n",
    "    if 'service_office' in person.info:\n",
    "        person.office = person_data['service_office']\n",
    "    else:\n",
    "        person.office = 0\n",
    "        \n",
    "    if 'spending_dist_office' in person.info:\n",
    "        person.officesp = person_data['spending_dist_office']\n",
    "    else:\n",
    "        person.officesp = 0"
   ]
  },
  {
   "cell_type": "code",
   "execution_count": 8,
   "metadata": {
    "collapsed": false
   },
   "outputs": [],
   "source": [
    "# calculate sample size\n",
    "ssize = get_sample_size(len(chronic), len(not_chronic), 0.70)\n",
    "\n",
    "# sample chronic and non-chronic\n",
    "schron = reservoir_sample(chronic, ssize)\n",
    "snot = reservoir_sample(not_chronic, ssize)"
   ]
  },
  {
   "cell_type": "code",
   "execution_count": 50,
   "metadata": {
    "collapsed": false
   },
   "outputs": [],
   "source": [
    "# get spend for each\n",
    "schron_spend = [rows[pid].info['spending_dist_total'] for pid in schron]\n",
    "snot_spend = [rows[pid].info['spending_dist_total'] for pid in snot]"
   ]
  },
  {
   "cell_type": "code",
   "execution_count": 51,
   "metadata": {
    "collapsed": false
   },
   "outputs": [
    {
     "name": "stdout",
     "output_type": "stream",
     "text": [
      "6311.82609962 1679.0 15400.8390945\n",
      "0.00373678420979 0.00099401672182 0.00911774365096\n",
      "1418.98135741 190.0 9942.06147596\n",
      "0.0013922710131 0.000186423515085 0.00975491603968\n"
     ]
    }
   ],
   "source": [
    "print np.average(schron_spend), np.median(schron_spend), np.std(schron_spend)\n",
    "print np.average(snot_spend), np.median(snot_spend), np.std(snot_spend)"
   ]
  },
  {
   "cell_type": "code",
   "execution_count": 11,
   "metadata": {
    "collapsed": true
   },
   "outputs": [],
   "source": [
    "# get office visit for each\n",
    "schron_office = [rows[pid].office for pid in schron]\n",
    "snot_office = [rows[pid].office for pid in snot]"
   ]
  },
  {
   "cell_type": "code",
   "execution_count": 12,
   "metadata": {
    "collapsed": false
   },
   "outputs": [
    {
     "name": "stdout",
     "output_type": "stream",
     "text": [
      "6.29022235168\n",
      "2.0368967861\n"
     ]
    }
   ],
   "source": [
    "print(np.average(schron_office))\n",
    "print(np.average(snot_office))"
   ]
  },
  {
   "cell_type": "code",
   "execution_count": 13,
   "metadata": {
    "collapsed": false
   },
   "outputs": [],
   "source": [
    "# get cost per visit for each\n",
    "schron_cpv = [rows[pid].officesp/rows[pid].office for pid in schron if rows[pid].office>0]\n",
    "snot_cpv = [rows[pid].officesp/rows[pid].office for pid in snot if rows[pid].office>0]"
   ]
  },
  {
   "cell_type": "code",
   "execution_count": 14,
   "metadata": {
    "collapsed": false
   },
   "outputs": [
    {
     "name": "stdout",
     "output_type": "stream",
     "text": [
      "3.85223367698\n",
      "2.0368967861\n"
     ]
    }
   ],
   "source": [
    "print(np.average(schron_cpv))\n",
    "print(np.average(snot_office))"
   ]
  },
  {
   "cell_type": "code",
   "execution_count": 15,
   "metadata": {
    "collapsed": false
   },
   "outputs": [],
   "source": [
    "# breakdown in to age groups\n",
    "chron_young, chron_mid, chron_old = [],[],[]\n",
    "for pid in chronic:\n",
    "    if rows[pid].age>18 and rows[pid].age<45:\n",
    "        chron_young.append(pid)\n",
    "    elif rows[pid].age>=45 and rows[pid].age<65:\n",
    "        chron_mid.append(pid)\n",
    "    elif rows[pid].age>=65:\n",
    "        chron_old.append(pid)\n",
    "\n",
    "notchron_young, notchron_mid, notchron_old = [],[],[]\n",
    "for pid in not_chronic:\n",
    "    if rows[pid].age>18 and rows[pid].age<45:\n",
    "        notchron_young.append(pid)\n",
    "    elif rows[pid].age>=45 and rows[pid].age<65:\n",
    "        notchron_mid.append(pid)\n",
    "    elif rows[pid].age>=65:\n",
    "        notchron_old.append(pid)  "
   ]
  },
  {
   "cell_type": "code",
   "execution_count": 16,
   "metadata": {
    "collapsed": false
   },
   "outputs": [],
   "source": [
    "# sample for each age group\n",
    "def sample_age_group(chron, notchron):\n",
    "    ssize_age = get_sample_size(len(chron), len(notchron), 0.7)\n",
    "    schron_age = reservoir_sample(chron, ssize_age)\n",
    "    snotchron_age = reservoir_sample(notchron, ssize_age)\n",
    "    return schron_age, snotchron_age\n",
    "\n",
    "schron_young, snotchron_young = sample_age_group(chron_young, notchron_young)\n",
    "schron_mid, snotchron_mid = sample_age_group(chron_mid, notchron_mid)\n",
    "schron_old, snotchron_old = sample_age_group(chron_old, notchron_old)"
   ]
  },
  {
   "cell_type": "code",
   "execution_count": 17,
   "metadata": {
    "collapsed": false
   },
   "outputs": [
    {
     "name": "stdout",
     "output_type": "stream",
     "text": [
      "2538 2408 320\n"
     ]
    }
   ],
   "source": [
    "print len(schron_young), len(schron_mid), len(schron_old)"
   ]
  },
  {
   "cell_type": "code",
   "execution_count": 18,
   "metadata": {
    "collapsed": false
   },
   "outputs": [],
   "source": [
    "# gspending\n",
    "chron_young_sp = [rows[pid].spend for pid in schron_young]\n",
    "chron_mid_sp = [rows[pid].spend for pid in schron_mid]\n",
    "chron_old_sp = [rows[pid].spend for pid in schron_old]\n",
    "notchron_young_sp = [rows[pid].spend for pid in snotchron_young]\n",
    "notchron_mid_sp = [rows[pid].spend for pid in snotchron_mid]\n",
    "notchron_old_sp = [rows[pid].spend for pid in snotchron_old]"
   ]
  },
  {
   "cell_type": "code",
   "execution_count": 19,
   "metadata": {
    "collapsed": false
   },
   "outputs": [
    {
     "name": "stdout",
     "output_type": "stream",
     "text": [
      "3678.26122931 1493.06185973\n",
      "6852.41860465 1591.74750831\n",
      "8631.871875 2897.496875\n"
     ]
    }
   ],
   "source": [
    "print np.average(chron_young_sp), np.average(notchron_young_sp)\n",
    "print np.average(chron_mid_sp), np.average(notchron_mid_sp)\n",
    "print np.average(chron_old_sp), np.average(notchron_old_sp)"
   ]
  },
  {
   "cell_type": "code",
   "execution_count": 20,
   "metadata": {
    "collapsed": true
   },
   "outputs": [],
   "source": [
    "chron_young_ov = [rows[pid].office for pid in chronic if rows[pid].age>18 and rows[pid].age < 45]\n",
    "chron_mid_ov = [rows[pid].office for pid in chronic if rows[pid].age>=45 and rows[pid].age < 65]\n",
    "chron_old_ov = [rows[pid].office for pid in chronic if rows[pid].age>=65]\n",
    "notchron_young_ov = [rows[pid].office for pid in not_chronic if rows[pid].age>18 and rows[pid].age < 45]\n",
    "notchron_mid_ov = [rows[pid].office for pid in not_chronic if rows[pid].age>=45 and rows[pid].age < 65]\n",
    "notchron_old_ov = [rows[pid].office for pid in not_chronic if rows[pid].age>=65]"
   ]
  },
  {
   "cell_type": "code",
   "execution_count": 21,
   "metadata": {
    "collapsed": false
   },
   "outputs": [
    {
     "name": "stdout",
     "output_type": "stream",
     "text": [
      "4.50523993381 1.86236261016\n",
      "6.47518588968 2.3254867771\n",
      "9.26730869339 3.75545851528\n"
     ]
    }
   ],
   "source": [
    "print np.average(chron_young_ov), np.average(notchron_young_ov)\n",
    "print np.average(chron_mid_ov), np.average(notchron_mid_ov)\n",
    "print np.average(chron_old_ov), np.average(notchron_old_ov)"
   ]
  },
  {
   "cell_type": "code",
   "execution_count": 54,
   "metadata": {
    "collapsed": false
   },
   "outputs": [
    {
     "name": "stdout",
     "output_type": "stream",
     "text": [
      "6939.77466842 1434.91546422\n",
      "5504.52922958 1622.39527681\n",
      "6930.81 695.03\n",
      "5586.76208897 1687.22243714\n",
      "4560.76086957 1152.82608696\n",
      "5578.17989418 1118.95238095\n"
     ]
    }
   ],
   "source": [
    "# race\n",
    "chron_white = [pid for pid in chronic if rows[pid].info['demo_race_input'] is 1]\n",
    "chron_black = [pid for pid in chronic if rows[pid].info['demo_race_input'] is 2]\n",
    "chron_native = [pid for pid in chronic if rows[pid].info['demo_race_input'] is 3]\n",
    "chron_asian = [pid for pid in chronic if rows[pid].info['demo_race_input'] is 4]\n",
    "chron_pisland = [pid for pid in chronic if rows[pid].info['demo_race_input'] is 5]\n",
    "chron_multiple = [pid for pid in chronic if rows[pid].info['demo_race_input'] is 6]\n",
    "\n",
    "notchron_white = [pid for pid in not_chronic if rows[pid].info['demo_race_input'] is 1]\n",
    "notchron_black = [pid for pid in not_chronic if rows[pid].info['demo_race_input'] is 2]\n",
    "notchron_native = [pid for pid in not_chronic if rows[pid].info['demo_race_input'] is 3]\n",
    "notchron_asian = [pid for pid in not_chronic if rows[pid].info['demo_race_input'] is 4]\n",
    "notchron_pisland = [pid for pid in not_chronic if rows[pid].info['demo_race_input'] is 5]\n",
    "notchron_multiple = [pid for pid in not_chronic if rows[pid].info['demo_race_input'] is 6]\n",
    "\n",
    "def sample_race_group(chron, notchron):\n",
    "    ssize_race = get_sample_size(len(chron), len(notchron), 0.7)\n",
    "    schron_race = reservoir_sample(chron, ssize_race)\n",
    "    snotchron_race = reservoir_sample(notchron, ssize_race)\n",
    "    return schron_race, snotchron_race\n",
    "\n",
    "schron_white, snotchron_white = sample_race_group(chron_white, notchron_white)\n",
    "schron_black, snotchron_black = sample_race_group(chron_black, notchron_black)\n",
    "schron_native, snotchron_native = sample_race_group(chron_native, notchron_native)\n",
    "schron_asian, snotchron_asian = sample_race_group(chron_asian, notchron_asian)\n",
    "schron_pisland, snotchron_pisland = sample_race_group(chron_pisland, notchron_pisland)\n",
    "schron_multiple, snotchron_multiple = sample_race_group(chron_multiple, notchron_multiple)\n",
    "\n",
    "# print len(schron_white), len(schron_black), len(schron_native), len(schron_asian), len(schron_pisland), len(schron_multiple)\n",
    "\n",
    "chron_white_sp, notchron_white_sp = [rows[pid].spend for pid in schron_white], [rows[pid].spend for pid in snotchron_white] \n",
    "chron_black_sp, notchron_black_sp = [rows[pid].spend for pid in schron_black], [rows[pid].spend for pid in snotchron_black] \n",
    "chron_native_sp, notchron_native_sp = [rows[pid].spend for pid in schron_native], [rows[pid].spend for pid in snotchron_native] \n",
    "chron_asian_sp, notchron_asian_sp = [rows[pid].spend for pid in schron_asian], [rows[pid].spend for pid in snotchron_asian] \n",
    "chron_pisland_sp, notchron_pisland_sp = [rows[pid].spend for pid in schron_pisland], [rows[pid].spend for pid in snotchron_pisland] \n",
    "chron_multiple_sp, notchron_multiple_sp = [rows[pid].spend for pid in schron_multiple], [rows[pid].spend for pid in snotchron_multiple] \n",
    "\n",
    "print np.average(chron_white_sp), np.average(notchron_white_sp)\n",
    "print np.average(chron_black_sp), np.average(notchron_black_sp)\n",
    "print np.average(chron_native_sp), np.average(notchron_native_sp)\n",
    "print np.average(chron_asian_sp), np.average(notchron_asian_sp)\n",
    "print np.average(chron_pisland_sp), np.average(notchron_pisland_sp)\n",
    "print np.average(chron_multiple_sp), np.average(notchron_multiple_sp)"
   ]
  },
  {
   "cell_type": "code",
   "execution_count": 26,
   "metadata": {
    "collapsed": false
   },
   "outputs": [
    {
     "data": {
      "text/plain": [
       "<matplotlib.collections.PathCollection at 0x106557c50>"
      ]
     },
     "execution_count": 26,
     "metadata": {},
     "output_type": "execute_result"
    },
    {
     "data": {
      "image/png": "[encoded data removed]",
      "text/plain": [
       "<matplotlib.figure.Figure at 0x105bc90d0>"
      ]
     },
     "metadata": {},
     "output_type": "display_data"
    }
   ],
   "source": [
    "# income vs spending\n",
    "schron_income = [rows[pid].info['demo_fam_income_pl'] for pid in schron]\n",
    "snot_income = [rows[pid].info['demo_fam_income_pl'] for pid in snot]\n",
    "\n",
    "income = schron_income + snot_income\n",
    "spend = schron_spend + snot_spend\n",
    "\n",
    "plt.scatter(schron_income, schron_spend)\n",
    "plt.scatter(snot_income, snot_spend)"
   ]
  },
  {
   "cell_type": "code",
   "execution_count": null,
   "metadata": {
    "collapsed": true
   },
   "outputs": [],
   "source": []
  }
 ],
 "metadata": {
  "kernelspec": {
   "display_name": "Python 2",
   "language": "python",
   "name": "python2"
  },
  "language_info": {
   "codemirror_mode": {
    "name": "ipython",
    "version": 2
   },
   "file_extension": ".py",
   "mimetype": "text/x-python",
   "name": "python",
   "nbconvert_exporter": "python",
   "pygments_lexer": "ipython2",
   "version": "2.7.10"
  }
 },
 "nbformat": 4,
 "nbformat_minor": 0
}
