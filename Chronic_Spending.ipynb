{
 "cells": [
  {
   "cell_type": "code",
   "execution_count": 1,
   "metadata": {
    "collapsed": true
   },
   "outputs": [],
   "source": [
    "import loader\n",
    "import random\n",
    "import numpy as np\n",
    "file = '2012-Consolidated-stripped.csv'"
   ]
  },
  {
   "cell_type": "code",
   "execution_count": 2,
   "metadata": {
    "collapsed": true
   },
   "outputs": [],
   "source": [
    "def reservoir_sample(iterator, k):\n",
    "    \"\"\"\n",
    "    Basic reservoir sample. Takes a target sample amount\n",
    "    \"\"\"\n",
    "    # fill the reservoir to start\n",
    "    iterator = iter(iterator)\n",
    "    result = [next(iterator) for _ in range(k)]\n",
    "    n = k\n",
    "    for item in iterator:\n",
    "        n += 1\n",
    "        s = random.randint(0, n)\n",
    "        if s < k:\n",
    "            result[s] = item\n",
    "    return result\n",
    "\n",
    "def get_sample_size(len1, len2, percent):\n",
    "    return int(min(len1, len2) * percent)"
   ]
  },
  {
   "cell_type": "code",
   "execution_count": 3,
   "metadata": {
    "collapsed": false
   },
   "outputs": [],
   "source": [
    "reload(loader)\n",
    "rows = loader.load_raw(file)"
   ]
  },
  {
   "cell_type": "code",
   "execution_count": 20,
   "metadata": {
    "collapsed": false
   },
   "outputs": [],
   "source": [
    "chronic = []\n",
    "not_chronic = []\n",
    "asdf = []\n",
    "\n",
    "for pid in rows:\n",
    "    person = rows[pid]\n",
    "    person_data = person.info\n",
    "    chron = False\n",
    "    all_pop = True\n",
    "    for code in person.info:\n",
    "        if 'chronic_'in code and not chron:\n",
    "                if person_data[code] is 1:\n",
    "                    chron = True\n",
    "                elif person_data[code] is -9 or person_data[code] is -8 or person_data[code] is -7:\n",
    "                    rows[pid].chronic = -1\n",
    "            \n",
    "    if chron:\n",
    "        chronic.append(pid)\n",
    "    else:\n",
    "        not_chronic.append(pid)\n",
    "    \n",
    "    person.age = person_data['demo_age']\n",
    "    \n",
    "    if 'spending_dist_total' in person.info:\n",
    "        person.spend = person_data['spending_dist_total']\n",
    "    else:\n",
    "        person.spend = 0\n",
    "    \n",
    "    if 'service_office' in person.info:\n",
    "        person.office = person_data['service_office']\n",
    "    else:\n",
    "        person.office = 0\n",
    "        \n",
    "    if 'spending_dist_office' in person.info:\n",
    "        person.officesp = person_data['spending_dist_office']\n",
    "    else:\n",
    "        person.officesp = 0\n"
   ]
  },
  {
   "cell_type": "code",
   "execution_count": 6,
   "metadata": {
    "collapsed": false
   },
   "outputs": [],
   "source": [
    "# calculate sample size\n",
    "ssize = get_sample_size(len(chronic), len(not_chronic), 0.70)\n",
    "\n",
    "# sample chronic and non-chronic\n",
    "schron = reservoir_sample(chronic, ssize)\n",
    "snot = reservoir_sample(not_chronic, ssize)"
   ]
  },
  {
   "cell_type": "code",
   "execution_count": 7,
   "metadata": {
    "collapsed": false
   },
   "outputs": [],
   "source": [
    "# get spend for each\n",
    "schron_spend = [rows[pid].spend for pid in schron]\n",
    "snot_spend = [rows[pid].spend for pid in snot]"
   ]
  },
  {
   "cell_type": "code",
   "execution_count": 8,
   "metadata": {
    "collapsed": false
   },
   "outputs": [
    {
     "name": "stdout",
     "output_type": "stream",
     "text": [
      "6223.79531993\n",
      "1570.16758909\n"
     ]
    }
   ],
   "source": [
    "print(np.average(schron_spend))\n",
    "print(np.average(snot_spend))"
   ]
  },
  {
   "cell_type": "code",
   "execution_count": 9,
   "metadata": {
    "collapsed": true
   },
   "outputs": [],
   "source": [
    "# get office visit for each\n",
    "schron_office = [rows[pid].office for pid in schron]\n",
    "snot_office = [rows[pid].office for pid in snot]"
   ]
  },
  {
   "cell_type": "code",
   "execution_count": 10,
   "metadata": {
    "collapsed": false
   },
   "outputs": [
    {
     "name": "stdout",
     "output_type": "stream",
     "text": [
      "6.32003107098\n",
      "2.09175648121\n"
     ]
    }
   ],
   "source": [
    "print(np.average(schron_office))\n",
    "print(np.average(snot_office))"
   ]
  },
  {
   "cell_type": "code",
   "execution_count": 17,
   "metadata": {
    "collapsed": false
   },
   "outputs": [],
   "source": [
    "# get cost per visit for each\n",
    "schron_cpv = [rows[pid].officesp/rows[pid].office for pid in schron if rows[pid].office>0]\n",
    "snot_cpv = [rows[pid].officesp/rows[pid].office for pid in snot if rows[pid].office>0]"
   ]
  },
  {
   "cell_type": "code",
   "execution_count": 18,
   "metadata": {
    "collapsed": false
   },
   "outputs": [
    {
     "name": "stdout",
     "output_type": "stream",
     "text": [
      "3.7121267969\n",
      "2.09175648121\n"
     ]
    }
   ],
   "source": [
    "print(np.average(schron_cpv))\n",
    "print(np.average(snot_office))"
   ]
  },
  {
   "cell_type": "code",
   "execution_count": 35,
   "metadata": {
    "collapsed": false
   },
   "outputs": [],
   "source": [
    "# breakdown in to age groups\n",
    "chron_young, chron_mid, chron_old = [],[],[]\n",
    "for pid in chronic:\n",
    "    if rows[pid].age>18 and rows[pid].age<45:\n",
    "        chron_young.append(pid)\n",
    "    elif rows[pid].age>=45 and rows[pid].age<65:\n",
    "        chron_mid.append(pid)\n",
    "    elif rows[pid].age>=65:\n",
    "        chron_old.append(pid)\n",
    "\n",
    "notchron_young, notchron_mid, notchron_old = [],[],[]\n",
    "for pid in not_chronic:\n",
    "    if rows[pid].age>18 and rows[pid].age<45:\n",
    "        notchron_young.append(pid)\n",
    "    elif rows[pid].age>=45 and rows[pid].age<65:\n",
    "        notchron_mid.append(pid)\n",
    "    elif rows[pid].age>=65:\n",
    "        notchron_old.append(pid)  "
   ]
  },
  {
   "cell_type": "code",
   "execution_count": 37,
   "metadata": {
    "collapsed": false
   },
   "outputs": [],
   "source": [
    "# sample for each age group\n",
    "def sample_age_group(chron, notchron):\n",
    "    ssize_age = get_sample_size(len(chron), len(notchron), 0.7)\n",
    "    schron_age = reservoir_sample(chron, ssize_age)\n",
    "    snotchron_age = reservoir_sample(notchron, ssize_age)\n",
    "    return schron_age, snotchron_age\n",
    "\n",
    "schron_young, snotchron_young = sample_age_group(chron_young, notchron_young)\n",
    "schron_mid, snotchron_mid = sample_age_group(chron_mid, notchron_mid)\n",
    "schron_old, snotchron_old = sample_age_group(chron_old, notchron_old)\n"
   ]
  },
  {
   "cell_type": "code",
   "execution_count": 38,
   "metadata": {
    "collapsed": false
   },
   "outputs": [
    {
     "name": "stdout",
     "output_type": "stream",
     "text": [
      "2538 2408 320\n"
     ]
    }
   ],
   "source": [
    "print len(schron_young), len(schron_mid), len(schron_old)"
   ]
  },
  {
   "cell_type": "code",
   "execution_count": 39,
   "metadata": {
    "collapsed": false
   },
   "outputs": [],
   "source": [
    "# gspending\n",
    "chron_young_sp = [rows[pid].spend for pid in schron_young]\n",
    "chron_mid_sp = [rows[pid].spend for pid in schron_mid]\n",
    "chron_old_sp = [rows[pid].spend for pid in schron_old]\n",
    "notchron_young_sp = [rows[pid].spend for pid in snotchron_young]\n",
    "notchron_mid_sp = [rows[pid].spend for pid in snotchron_mid]\n",
    "notchron_old_sp = [rows[pid].spend for pid in snotchron_old]"
   ]
  },
  {
   "cell_type": "code",
   "execution_count": 40,
   "metadata": {
    "collapsed": false
   },
   "outputs": [
    {
     "name": "stdout",
     "output_type": "stream",
     "text": [
      "3769.04373522 1436.51576044\n",
      "6919.00996678 1724.77034884\n",
      "8813.55625 2799.609375\n"
     ]
    }
   ],
   "source": [
    "print np.average(chron_young_sp), np.average(notchron_young_sp)\n",
    "print np.average(chron_mid_sp), np.average(notchron_mid_sp)\n",
    "print np.average(chron_old_sp), np.average(notchron_old_sp)"
   ]
  },
  {
   "cell_type": "code",
   "execution_count": 31,
   "metadata": {
    "collapsed": true
   },
   "outputs": [],
   "source": [
    "chron_young_ov = [rows[pid].office for pid in chronic if rows[pid].age>18 and rows[pid].age < 45]\n",
    "chron_mid_ov = [rows[pid].office for pid in chronic if rows[pid].age>=45 and rows[pid].age < 65]\n",
    "chron_old_ov = [rows[pid].office for pid in chronic if rows[pid].age>=65]\n",
    "notchron_young_ov = [rows[pid].office for pid in not_chronic if rows[pid].age>18 and rows[pid].age < 45]\n",
    "notchron_mid_ov = [rows[pid].office for pid in not_chronic if rows[pid].age>=45 and rows[pid].age < 65]\n",
    "notchron_old_ov = [rows[pid].office for pid in not_chronic if rows[pid].age>=65]"
   ]
  },
  {
   "cell_type": "code",
   "execution_count": 32,
   "metadata": {
    "collapsed": false
   },
   "outputs": [
    {
     "name": "stdout",
     "output_type": "stream",
     "text": [
      "4.50523993381 1.86236261016\n",
      "6.47518588968 2.3254867771\n",
      "9.26730869339 3.75545851528\n"
     ]
    }
   ],
   "source": [
    "print np.average(chron_young_ov), np.average(notchron_young_ov)\n",
    "print np.average(chron_mid_ov), np.average(notchron_mid_ov)\n",
    "print np.average(chron_old_ov), np.average(notchron_old_ov)"
   ]
  },
  {
   "cell_type": "code",
   "execution_count": null,
   "metadata": {
    "collapsed": true
   },
   "outputs": [],
   "source": []
  }
 ],
 "metadata": {
  "kernelspec": {
   "display_name": "Python 2",
   "language": "python",
   "name": "python2"
  },
  "language_info": {
   "codemirror_mode": {
    "name": "ipython",
    "version": 2
   },
   "file_extension": ".py",
   "mimetype": "text/x-python",
   "name": "python",
   "nbconvert_exporter": "python",
   "pygments_lexer": "ipython2",
   "version": "2.7.10"
  }
 },
 "nbformat": 4,
 "nbformat_minor": 0
}
